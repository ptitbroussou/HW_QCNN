{
 "cells": [
  {
   "cell_type": "code",
   "execution_count": 1,
   "metadata": {
    "collapsed": true,
    "ExecuteTime": {
     "end_time": "2024-03-14T10:25:50.945126Z",
     "start_time": "2024-03-14T10:25:45.890088Z"
    }
   },
   "outputs": [],
   "source": [
    "import torch.nn.functional as F  # functions of the neural network library\n",
    "import load_dataset as load  # module with function to load data\n",
    "from Conv_Layer import *\n",
    "from Pooling import *\n",
    "import gc\n",
    "from torch.nn import AdaptiveAvgPool2d\n",
    "import matplotlib.pyplot as plt\n",
    "from Dense import *"
   ]
  },
  {
   "cell_type": "code",
   "execution_count": null,
   "outputs": [],
   "source": [
    "import torch\n",
    "\n",
    "torch.cuda.is_available()"
   ],
   "metadata": {
    "collapsed": false,
    "is_executing": true
   }
  },
  {
   "cell_type": "code",
   "execution_count": 2,
   "outputs": [],
   "source": [
    "I = 6\n",
    "O = I//2\n",
    "n = 2*I\n",
    "k = 2\n",
    "K = 2\n",
    "\n",
    "device = torch.device(\"mps\")\n",
    "batch_size = 20  # the number of examples per batch\n",
    "train_loader, test_loader, dim_in, dim_out = load.load_MNIST(batch_size=batch_size)\n",
    "scala = 1\n",
    "init_reduced_loader = reduce_MNIST_dataset(train_loader, scala)\n",
    "reduced_loader = filter_dataloader(init_reduced_loader, classes=[0, 1,2,3,4])\n",
    "number_class = 5\n",
    "list_gates = [(i, j) for i in range(2*I-1) for j in range(2*I-1) if i != j]"
   ],
   "metadata": {
    "collapsed": false,
    "ExecuteTime": {
     "end_time": "2024-03-14T10:26:01.507758Z",
     "start_time": "2024-03-14T10:25:57.309350Z"
    }
   }
  },
  {
   "cell_type": "code",
   "execution_count": 7,
   "outputs": [],
   "source": [
    "# for batch_idx, (data, target) in enumerate(reduced_loader):\n",
    "#     new_size = 6\n",
    "#     adaptive_avg_pool = AdaptiveAvgPool2d((new_size, new_size))\n",
    "#     new_data = adaptive_avg_pool(data)\n",
    "#     \n",
    "#     print(new_data.size())\n",
    "#     print(new_data.squeeze()[1])\n",
    "#     print(new_data.squeeze().resize(data.size()[0],I**2)[1])\n",
    "#     print(F.normalize(new_data.squeeze().resize(data.size()[0],I**2), p=2, dim=1)[1])\n",
    "#     print(to_density_matrix(F.normalize(new_data.squeeze().resize(data.size()[0],I**2), p=2, dim=1).to(device), device)[1])\n",
    "#     print(target[1].item())\n",
    "#     plt.imshow(to_density_matrix(F.normalize(new_data.squeeze().resize(data.size()[0],I**2), p=2, dim=1).to(device), device).cpu()[1], cmap='gray')\n",
    "#     plt.imshow(to_density_matrix(F.normalize(new_data.squeeze().resize(data.size()[0],I**2), p=2, dim=1).to(device), device).cpu()[0], cmap='gray')\n",
    "#     plt.show()\n",
    "#     break"
   ],
   "metadata": {
    "collapsed": false,
    "ExecuteTime": {
     "end_time": "2024-03-14T09:07:32.183884Z",
     "start_time": "2024-03-14T09:07:32.180674Z"
    }
   }
  },
  {
   "cell_type": "code",
   "execution_count": 3,
   "outputs": [],
   "source": [
    "# full_model = nn.Sequential(Conv_RBS_density_I2(I,K,device), Pooling_2D_density(I,O,device),\n",
    "#                            Conv_RBS_density_I2(I//2,K,device),\n",
    "#                            Basis_Change_I_to_HW_density(O, device), Dense_RBS_density(O, list_gates, number_class, device))\n",
    "\n",
    "full_model = nn.Sequential(Basis_Change_I_to_HW_density(I, device), Dense_RBS_density(I, list_gates, number_class, device))\n",
    "\n",
    "# full_model = nn.Sequential(Conv_RBS_density_I2(I,K,device), Basis_Change_I_to_HW_density(I, device), Dense_RBS_density(I, list_gates, number_class, device))\n",
    "\n",
    "# loss_function = torch.nn.CrossEntropyLoss()\n",
    "loss_function = torch.nn.MSELoss(reduction='sum')\n",
    "optimizer = torch.optim.Adagrad(full_model.parameters(), lr=1e-2, lr_decay=1e-6, weight_decay=0, initial_accumulator_value=1e-6, eps=1e-10)\n",
    "# optimizer = torch.optim.Adam(full_model.parameters(), lr=1e-2)\n",
    "\n",
    "def train_net(network, train_loader, loss_function, optimizer, device):\n",
    "    network.train()\n",
    "    train_loss = 0\n",
    "    train_accuracy = 0\n",
    "    for batch_idx, (data, target) in enumerate(train_loader):\n",
    "        if data.size()[0] < batch_size: break\n",
    "        if target.size()[0] < batch_size: break\n",
    "        # Pooling manually\n",
    "        new_size = I\n",
    "        adaptive_avg_pool = AdaptiveAvgPool2d((new_size, new_size))\n",
    "        data = adaptive_avg_pool(data).to(device)\n",
    "        \n",
    "        init_density_matrix = to_density_matrix(F.normalize(data.squeeze().resize(data.size()[0],I**2), p=2, dim=1).to(device), device)\n",
    "        # init_density_matrix = to_density_matrix(data.squeeze().resize(data.size()[0],I**2).to(device), device)\n",
    "        out_network = network(init_density_matrix) # out tensor size: batch * 91 * 91\n",
    "        # out_network = get_predict_number_vector(out_network, number_class, device)\n",
    "        # training\n",
    "        targets = get_batch_projectors(target, batch_size, int(binom(2*I,2)), number_class, device)\n",
    "        # targets = get_batch_simple_projectors(target, batch_size, int(binom(2*I,2)), number_class, device)\n",
    "\n",
    "        loss = loss_function(out_network.to(device), targets.to(device)).to(device) # out_vectors: batch * 10, target: batch * 1\n",
    "        # loss = loss_function(zero_off_diagonal_elements(out_network.float()),targets.float())\n",
    "        train_loss += loss.item()\n",
    "        optimizer.zero_grad()\n",
    "        loss.backward()\n",
    "        optimizer.step()\n",
    "\n",
    "        # predict digital number\n",
    "        predict_number_vector = get_predict_number_vector(out_network, number_class, device)\n",
    "        predict_number = torch.argmax(predict_number_vector, dim=1).to(device)\n",
    "        acc = predict_number.eq(target.to(device).view_as(predict_number).to(device)).sum().item()\n",
    "        train_accuracy += acc\n",
    "\n",
    "        # delete variable to free memory\n",
    "        del out_network\n",
    "        gc.collect()\n",
    "\n",
    "    train_accuracy /= len(train_loader.dataset)\n",
    "    train_loss /= (batch_idx + 1)\n",
    "    return train_accuracy, train_loss"
   ],
   "metadata": {
    "collapsed": false,
    "ExecuteTime": {
     "end_time": "2024-03-14T10:26:04.073467Z",
     "start_time": "2024-03-14T10:26:03.673920Z"
    }
   }
  },
  {
   "cell_type": "code",
   "execution_count": 4,
   "outputs": [
    {
     "name": "stderr",
     "output_type": "stream",
     "text": [
      "/Users/letao/anaconda3/envs/env3.10/lib/python3.10/site-packages/torch/_tensor.py:868: UserWarning: non-inplace resize is deprecated\n",
      "  warnings.warn(\"non-inplace resize is deprecated\")\n"
     ]
    },
    {
     "name": "stdout",
     "output_type": "stream",
     "text": [
      "Epoch 0: Loss  = 1.594543, accuracy = 43.4011 %\n",
      "Epoch 1: Loss  = 1.573625, accuracy = 37.0604 %\n",
      "Epoch 2: Loss  = 1.565369, accuracy = 32.0565 %\n",
      "Epoch 3: Loss  = 1.560231, accuracy = 33.1318 %\n"
     ]
    },
    {
     "ename": "KeyboardInterrupt",
     "evalue": "",
     "output_type": "error",
     "traceback": [
      "\u001B[0;31m---------------------------------------------------------------------------\u001B[0m",
      "\u001B[0;31mKeyboardInterrupt\u001B[0m                         Traceback (most recent call last)",
      "Cell \u001B[0;32mIn[4], line 5\u001B[0m\n\u001B[1;32m      2\u001B[0m losss\u001B[38;5;241m=\u001B[39m []\n\u001B[1;32m      4\u001B[0m \u001B[38;5;28;01mfor\u001B[39;00m epoch \u001B[38;5;129;01min\u001B[39;00m \u001B[38;5;28mrange\u001B[39m(\u001B[38;5;241m10\u001B[39m):\n\u001B[0;32m----> 5\u001B[0m     train_accuracy, train_loss \u001B[38;5;241m=\u001B[39m \u001B[43mtrain_net\u001B[49m\u001B[43m(\u001B[49m\u001B[43mfull_model\u001B[49m\u001B[43m,\u001B[49m\u001B[43m \u001B[49m\u001B[43mreduced_loader\u001B[49m\u001B[43m,\u001B[49m\u001B[43m \u001B[49m\u001B[43mloss_function\u001B[49m\u001B[43m,\u001B[49m\u001B[43m \u001B[49m\u001B[43moptimizer\u001B[49m\u001B[43m,\u001B[49m\u001B[43m \u001B[49m\u001B[43mdevice\u001B[49m\u001B[43m)\u001B[49m\n\u001B[1;32m      6\u001B[0m     trains\u001B[38;5;241m.\u001B[39mappend(train_accuracy)\n\u001B[1;32m      7\u001B[0m     losss\u001B[38;5;241m.\u001B[39mappend(train_loss)\n",
      "Cell \u001B[0;32mIn[3], line 26\u001B[0m, in \u001B[0;36mtrain_net\u001B[0;34m(network, train_loader, loss_function, optimizer, device)\u001B[0m\n\u001B[1;32m     23\u001B[0m adaptive_avg_pool \u001B[38;5;241m=\u001B[39m AdaptiveAvgPool2d((new_size, new_size))\n\u001B[1;32m     24\u001B[0m data \u001B[38;5;241m=\u001B[39m adaptive_avg_pool(data)\u001B[38;5;241m.\u001B[39mto(device)\n\u001B[0;32m---> 26\u001B[0m init_density_matrix \u001B[38;5;241m=\u001B[39m \u001B[43mto_density_matrix\u001B[49m\u001B[43m(\u001B[49m\u001B[43mF\u001B[49m\u001B[38;5;241;43m.\u001B[39;49m\u001B[43mnormalize\u001B[49m\u001B[43m(\u001B[49m\u001B[43mdata\u001B[49m\u001B[38;5;241;43m.\u001B[39;49m\u001B[43msqueeze\u001B[49m\u001B[43m(\u001B[49m\u001B[43m)\u001B[49m\u001B[38;5;241;43m.\u001B[39;49m\u001B[43mresize\u001B[49m\u001B[43m(\u001B[49m\u001B[43mdata\u001B[49m\u001B[38;5;241;43m.\u001B[39;49m\u001B[43msize\u001B[49m\u001B[43m(\u001B[49m\u001B[43m)\u001B[49m\u001B[43m[\u001B[49m\u001B[38;5;241;43m0\u001B[39;49m\u001B[43m]\u001B[49m\u001B[43m,\u001B[49m\u001B[43mI\u001B[49m\u001B[38;5;241;43m*\u001B[39;49m\u001B[38;5;241;43m*\u001B[39;49m\u001B[38;5;241;43m2\u001B[39;49m\u001B[43m)\u001B[49m\u001B[43m,\u001B[49m\u001B[43m \u001B[49m\u001B[43mp\u001B[49m\u001B[38;5;241;43m=\u001B[39;49m\u001B[38;5;241;43m2\u001B[39;49m\u001B[43m,\u001B[49m\u001B[43m \u001B[49m\u001B[43mdim\u001B[49m\u001B[38;5;241;43m=\u001B[39;49m\u001B[38;5;241;43m1\u001B[39;49m\u001B[43m)\u001B[49m\u001B[38;5;241;43m.\u001B[39;49m\u001B[43mto\u001B[49m\u001B[43m(\u001B[49m\u001B[43mdevice\u001B[49m\u001B[43m)\u001B[49m\u001B[43m,\u001B[49m\u001B[43m \u001B[49m\u001B[43mdevice\u001B[49m\u001B[43m)\u001B[49m\n\u001B[1;32m     27\u001B[0m \u001B[38;5;66;03m# init_density_matrix = to_density_matrix(data.squeeze().resize(data.size()[0],I**2).to(device), device)\u001B[39;00m\n\u001B[1;32m     28\u001B[0m out_network \u001B[38;5;241m=\u001B[39m network(init_density_matrix) \u001B[38;5;66;03m# out tensor size: batch * 91 * 91\u001B[39;00m\n",
      "File \u001B[0;32m~/PycharmProjects/HW_QCNN/toolbox.py:377\u001B[0m, in \u001B[0;36mto_density_matrix\u001B[0;34m(batch_vectors, device)\u001B[0m\n\u001B[1;32m    375\u001B[0m \u001B[38;5;28;01mfor\u001B[39;00m vector \u001B[38;5;129;01min\u001B[39;00m batch_vectors:\n\u001B[1;32m    376\u001B[0m     out[index] \u001B[38;5;241m+\u001B[39m\u001B[38;5;241m=\u001B[39m torch\u001B[38;5;241m.\u001B[39meinsum(\u001B[38;5;124m'\u001B[39m\u001B[38;5;124mi,j->ij\u001B[39m\u001B[38;5;124m'\u001B[39m, vector, vector)\n\u001B[0;32m--> 377\u001B[0m     index \u001B[38;5;241m+\u001B[39m\u001B[38;5;241m=\u001B[39m \u001B[38;5;241m1\u001B[39m\n\u001B[1;32m    378\u001B[0m \u001B[38;5;28;01mreturn\u001B[39;00m out\n",
      "\u001B[0;31mKeyboardInterrupt\u001B[0m: "
     ]
    }
   ],
   "source": [
    "trains = []\n",
    "losss= []\n",
    "\n",
    "for epoch in range(10):\n",
    "    train_accuracy, train_loss = train_net(full_model, reduced_loader, loss_function, optimizer, device)\n",
    "    trains.append(train_accuracy)\n",
    "    losss.append(train_loss)\n",
    "    print(f'Epoch {epoch}: Loss  = {train_loss:.6f}, accuracy = {train_accuracy*100:.4f} %')"
   ],
   "metadata": {
    "collapsed": false,
    "ExecuteTime": {
     "end_time": "2024-03-14T11:13:28.338023Z",
     "start_time": "2024-03-14T10:27:11.375547Z"
    }
   }
  },
  {
   "cell_type": "code",
   "execution_count": 1,
   "outputs": [],
   "source": [],
   "metadata": {
    "collapsed": false,
    "ExecuteTime": {
     "end_time": "2024-03-13T15:38:43.966831Z",
     "start_time": "2024-03-13T15:38:43.963775Z"
    }
   }
  }
 ],
 "metadata": {
  "kernelspec": {
   "name": "python3",
   "language": "python",
   "display_name": "Python 3 (ipykernel)"
  },
  "language_info": {
   "codemirror_mode": {
    "name": "ipython",
    "version": 2
   },
   "file_extension": ".py",
   "mimetype": "text/x-python",
   "name": "python",
   "nbconvert_exporter": "python",
   "pygments_lexer": "ipython2",
   "version": "2.7.6"
  }
 },
 "nbformat": 4,
 "nbformat_minor": 0
}
