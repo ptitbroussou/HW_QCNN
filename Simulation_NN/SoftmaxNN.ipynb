{
 "cells": [
  {
   "cell_type": "code",
   "execution_count": 2,
   "metadata": {
    "collapsed": true
   },
   "outputs": [],
   "source": [
    "import torch\n",
    "from torch import nn\n",
    "from toolbox import batch_softargmax"
   ]
  },
  {
   "cell_type": "code",
   "execution_count": 6,
   "outputs": [],
   "source": [
    "class SoftmaxNN(nn.Module):\n",
    "    def __init__(self, device):\n",
    "        super().__init__()\n",
    "        self.device = device\n",
    "        self.paras = torch.nn.Parameter((torch.randn(5,10)/100).to(device))\n",
    "\n",
    "    def forward(self):\n",
    "        return batch_softargmax(self.paras, self.device)"
   ],
   "metadata": {
    "collapsed": false
   }
  },
  {
   "cell_type": "code",
   "execution_count": 7,
   "outputs": [
    {
     "name": "stdout",
     "output_type": "stream",
     "text": [
      "21.33316993713379\n",
      "14.897110939025879\n",
      "10.445343971252441\n",
      "7.3107805252075195\n",
      "5.096102714538574\n",
      "3.5373001098632812\n",
      "2.448195219039917\n",
      "1.6934094429016113\n",
      "1.1736944913864136\n",
      "0.8170227408409119\n"
     ]
    }
   ],
   "source": [
    "device = torch.device(\"mps\")\n",
    "dense = SoftmaxNN(device)\n",
    "loss_function = torch.nn.MSELoss(reduction='sum')\n",
    "optimizer = torch.optim.SGD(dense.parameters(), lr=1e-1)\n",
    "y = torch.tensor([1.0,2.0,3.0,4.0,5.0]).to(device)\n",
    "\n",
    "for i in range(10):\n",
    "    loss = loss_function(dense(),y)\n",
    "    optimizer.zero_grad()\n",
    "    loss.backward()\n",
    "    optimizer.step()\n",
    "    print(loss.item())\n",
    "\n",
    "# print(dense.forward())"
   ],
   "metadata": {
    "collapsed": false
   }
  },
  {
   "cell_type": "code",
   "execution_count": 5,
   "outputs": [
    {
     "data": {
      "text/plain": "tensor([[-0.0034, -0.0176,  0.0061,  0.0012, -0.0121, -0.0017,  0.0142, -0.0155,\n         -0.0023, -0.0009],\n        [-0.0026, -0.0084,  0.0024,  0.0035, -0.0041, -0.0163, -0.0058, -0.0060,\n          0.0092, -0.0157],\n        [-0.0067,  0.0024,  0.0004,  0.0111,  0.0134, -0.0033,  0.0052,  0.0198,\n         -0.0007, -0.0052],\n        [ 0.0002, -0.0200,  0.0160,  0.0041,  0.0069, -0.0022,  0.0021, -0.0154,\n          0.0126,  0.0044],\n        [-0.0109,  0.0051,  0.0066,  0.0055,  0.0076, -0.0184, -0.0088,  0.0187,\n         -0.0130,  0.0043]])"
     },
     "execution_count": 5,
     "metadata": {},
     "output_type": "execute_result"
    }
   ],
   "source": [
    "torch.randn(5,10)/100"
   ],
   "metadata": {
    "collapsed": false
   }
  }
 ],
 "metadata": {
  "kernelspec": {
   "display_name": "Python 3",
   "language": "python",
   "name": "python3"
  },
  "language_info": {
   "codemirror_mode": {
    "name": "ipython",
    "version": 2
   },
   "file_extension": ".py",
   "mimetype": "text/x-python",
   "name": "python",
   "nbconvert_exporter": "python",
   "pygments_lexer": "ipython2",
   "version": "2.7.6"
  }
 },
 "nbformat": 4,
 "nbformat_minor": 0
}
