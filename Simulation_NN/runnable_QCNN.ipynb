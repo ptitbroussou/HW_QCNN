{
 "cells": [
  {
   "cell_type": "code",
   "execution_count": 1,
   "metadata": {
    "collapsed": true
   },
   "outputs": [],
   "source": [
    "import torch.nn.functional as F  # functions of the neural network library\n",
    "import load_dataset as load  # module with function to load data\n",
    "from Conv_Layer import *\n",
    "from Pooling import *\n",
    "import gc\n",
    "from Dense import *"
   ]
  },
  {
   "cell_type": "code",
   "execution_count": 2,
   "outputs": [],
   "source": [
    "I = 28\n",
    "O = I//2\n",
    "n = 2*I\n",
    "k = 2\n",
    "K = I//4\n",
    "\n",
    "device = torch.device(\"mps\")\n",
    "batch_size = 5  # the number of examples per batch\n",
    "train_loader, test_loader, dim_in, dim_out = load.load_MNIST(batch_size=batch_size)\n",
    "scala = 1000\n",
    "reduced_loader = reduce_MNIST_dataset(test_loader, scala)\n",
    "list_gates = [(i, j) for i in range(O-1) for j in range(i+1, O-1)]"
   ],
   "metadata": {
    "collapsed": false
   }
  },
  {
   "cell_type": "code",
   "execution_count": 3,
   "outputs": [],
   "source": [
    "full_model = nn.Sequential(Conv_RBS_density_I2(I,K,device), Pooling_2D_density(I,O,device),\n",
    "                           Conv_RBS_density_I2(I//2,K,device), Pooling_2D_density(I//2,O//2,device),\n",
    "                           Basis_Change_I_to_HW_density(O//2, device), Dense_RBS_density(O//2, list_gates, device))"
   ],
   "metadata": {
    "collapsed": false
   }
  },
  {
   "cell_type": "code",
   "execution_count": 4,
   "outputs": [],
   "source": [
    "loss_function = torch.nn.MSELoss(reduction='sum')\n",
    "optimizer = torch.optim.SGD(full_model.parameters(), lr=1)\n",
    "\n",
    "def train_net(network, train_loader, loss_function, optimizer, device):\n",
    "    network.train()\n",
    "    train_loss = 0\n",
    "\n",
    "    for batch_idx, (data, target) in enumerate(train_loader):\n",
    "        # batch_data tensor size: batch_size * 784\n",
    "        # init_density_matrix tensor size: batch_size * 784 * 784\n",
    "        init_density_matrix = to_density_matrix(F.normalize(data.squeeze().resize(data.size()[0],784), p=2, dim=1).to(device), device)\n",
    "        out_network = network(init_density_matrix) # out tensor size: batch * 91 * 91\n",
    "        targets = get_batch_projectors(target, batch_size, int(binom(O,2)), device)\n",
    "        loss = loss_function(out_network,targets)\n",
    "\n",
    "        train_loss += loss.item()\n",
    "        optimizer.zero_grad()\n",
    "        loss.backward()\n",
    "        optimizer.step()\n",
    "\n",
    "        del out_network\n",
    "        gc.collect()\n",
    "\n",
    "    train_loss /= (batch_idx + 1)\n",
    "    return train_loss"
   ],
   "metadata": {
    "collapsed": false
   }
  },
  {
   "cell_type": "code",
   "execution_count": 5,
   "outputs": [
    {
     "name": "stderr",
     "output_type": "stream",
     "text": [
      "/Users/letao/anaconda3/envs/env0/lib/python3.11/site-packages/torch/_tensor.py:885: UserWarning: non-inplace resize is deprecated\n",
      "  warnings.warn(\"non-inplace resize is deprecated\")\n"
     ]
    },
    {
     "name": "stdout",
     "output_type": "stream",
     "text": [
      "44.236677169799805\n",
      "44.13352394104004\n",
      "44.05485534667969\n",
      "43.986385345458984\n",
      "43.859893798828125\n"
     ]
    }
   ],
   "source": [
    "for i in range(5):\n",
    "    train_loss = train_net(full_model, reduced_loader, loss_function, optimizer, device)\n",
    "    print(train_loss)"
   ],
   "metadata": {
    "collapsed": false
   }
  }
 ],
 "metadata": {
  "kernelspec": {
   "display_name": "Python 3",
   "language": "python",
   "name": "python3"
  },
  "language_info": {
   "codemirror_mode": {
    "name": "ipython",
    "version": 2
   },
   "file_extension": ".py",
   "mimetype": "text/x-python",
   "name": "python",
   "nbconvert_exporter": "python",
   "pygments_lexer": "ipython2",
   "version": "2.7.6"
  }
 },
 "nbformat": 4,
 "nbformat_minor": 0
}
