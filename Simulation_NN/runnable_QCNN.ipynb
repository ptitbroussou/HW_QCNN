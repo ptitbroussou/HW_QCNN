{
 "cells": [
  {
   "cell_type": "code",
   "execution_count": 2,
   "metadata": {
    "collapsed": true,
    "ExecuteTime": {
     "end_time": "2024-03-04T09:58:48.630291Z",
     "start_time": "2024-03-04T09:58:45.978708Z"
    }
   },
   "outputs": [],
   "source": [
    "import torch.nn.functional as F  # functions of the neural network library\n",
    "import load_dataset as load  # module with function to load data\n",
    "from Conv_Layer import *\n",
    "from Pooling import *\n",
    "import gc\n",
    "from Dense import *"
   ]
  },
  {
   "cell_type": "code",
   "execution_count": 3,
   "outputs": [],
   "source": [
    "I = 28\n",
    "O = I//2\n",
    "n = 2*I\n",
    "k = 2\n",
    "K = I//4\n",
    "\n",
    "device = torch.device(\"mps\")\n",
    "batch_size = 10  # the number of examples per batch\n",
    "train_loader, test_loader, dim_in, dim_out = load.load_MNIST(batch_size=batch_size)\n",
    "scala = 1000\n",
    "reduced_loader = reduce_MNIST_dataset(train_loader, scala)\n",
    "# list_gates = [(i, j) for i in range(O-1) for j in range(i+1, O-1)]\n",
    "# list_gates = [(i, j) for i in range(O-1) for j in range(O-1)]\n",
    "list_gates1 = [(i, i+1) for i in range(O//2-1)]\n",
    "list_gates2 = [(O//2-1-i, O//2-2-i) for i in range(O//2-1)]\n",
    "# [(13,12),(12,11),...,(1,0)] O//2 = 14"
   ],
   "metadata": {
    "collapsed": false,
    "ExecuteTime": {
     "end_time": "2024-03-04T09:58:49.353185Z",
     "start_time": "2024-03-04T09:58:49.306700Z"
    }
   }
  },
  {
   "cell_type": "code",
   "execution_count": 4,
   "outputs": [],
   "source": [
    "full_model = nn.Sequential(Conv_RBS_density_I2(I,K,device), Pooling_2D_density(I,O,device),\n",
    "                           Conv_RBS_density_I2(I//2,K,device), Pooling_2D_density(I//2,O//2,device),\n",
    "                           Basis_Change_I_to_HW_density(O//2, device), Dense_RBS_density(O//2, list_gates1, device), Dense_RBS_density(O//2, list_gates2, device))"
   ],
   "metadata": {
    "collapsed": false,
    "ExecuteTime": {
     "end_time": "2024-03-04T09:58:51.643653Z",
     "start_time": "2024-03-04T09:58:51.049841Z"
    }
   }
  },
  {
   "cell_type": "code",
   "execution_count": 5,
   "outputs": [],
   "source": [
    "loss_function = torch.nn.MSELoss(reduction='sum')\n",
    "optimizer = torch.optim.Adagrad(full_model.parameters(), lr=1e-1, lr_decay=1e-6, weight_decay=0, initial_accumulator_value=1e-6, eps=1e-10)\n",
    "\n",
    "def train_net(network, train_loader, loss_function, optimizer, device):\n",
    "    network.train()\n",
    "    train_loss = 0\n",
    "    train_accuracy = 0\n",
    "    for batch_idx, (data, target) in enumerate(train_loader):\n",
    "        # batch_data tensor size: batch_size * 784\n",
    "        # init_density_matrix tensor size: batch_size * 784 * 784\n",
    "        init_density_matrix = to_density_matrix(F.normalize(data.squeeze().resize(data.size()[0],784), p=2, dim=1).to(device), device)\n",
    "        out_network = network(init_density_matrix) # out tensor size: batch * 91 * 91\n",
    "\n",
    "        # training\n",
    "        targets = get_batch_projectors(target, batch_size, int(binom(O,2)), device)\n",
    "        loss = loss_function(out_network,targets)\n",
    "        train_loss += loss.item()\n",
    "        optimizer.zero_grad()\n",
    "        loss.backward()\n",
    "        optimizer.step()\n",
    "\n",
    "        # predict digital number\n",
    "        predict_number_vector = get_predict_number_vector(out_network, device)\n",
    "        predict_number = torch.argmax(predict_number_vector, dim=1).to(device)\n",
    "        acc = predict_number.eq(target.to(device).view_as(predict_number).to(device)).sum().item()\n",
    "        train_accuracy += acc\n",
    "\n",
    "        # delete variable to free memory\n",
    "        del out_network\n",
    "        gc.collect()\n",
    "\n",
    "    train_accuracy /= len(train_loader.dataset)\n",
    "    train_loss /= (batch_idx + 1)\n",
    "    return train_accuracy, train_loss\n",
    "    "
   ],
   "metadata": {
    "collapsed": false,
    "ExecuteTime": {
     "end_time": "2024-03-04T09:58:52.641379Z",
     "start_time": "2024-03-04T09:58:52.623444Z"
    }
   }
  },
  {
   "cell_type": "markdown",
   "source": [
    "## one direction full connect dense layer"
   ],
   "metadata": {
    "collapsed": false
   }
  },
  {
   "cell_type": "code",
   "execution_count": 7,
   "outputs": [
    {
     "name": "stderr",
     "output_type": "stream",
     "text": [
      "/Users/letao/anaconda3/envs/env0/lib/python3.11/site-packages/torch/_tensor.py:885: UserWarning: non-inplace resize is deprecated\n",
      "  warnings.warn(\"non-inplace resize is deprecated\")\n"
     ]
    },
    {
     "name": "stdout",
     "output_type": "stream",
     "text": [
      "Epoch 0: Loss = 1.201768, accuracy = 6.6667 %\n",
      "Epoch 1: Loss = 1.125369, accuracy = 18.3333 %\n",
      "Epoch 2: Loss = 1.112012, accuracy = 21.6667 %\n",
      "Epoch 3: Loss = 1.105667, accuracy = 25.0000 %\n",
      "Epoch 4: Loss = 1.099544, accuracy = 28.3333 %\n",
      "Epoch 5: Loss = 1.098427, accuracy = 25.0000 %\n",
      "Epoch 6: Loss = 1.094153, accuracy = 26.6667 %\n",
      "Epoch 7: Loss = 1.091470, accuracy = 25.0000 %\n",
      "Epoch 8: Loss = 1.088402, accuracy = 25.0000 %\n",
      "Epoch 9: Loss = 1.087548, accuracy = 30.0000 %\n"
     ]
    }
   ],
   "source": [
    "for epoch in range(10):\n",
    "    train_accuracy, train_loss = train_net(full_model, reduced_loader, loss_function, optimizer, device)\n",
    "    print(f'Epoch {epoch}: Loss = {train_loss:.6f}, accuracy = {train_accuracy*100:.4f} %')"
   ],
   "metadata": {
    "collapsed": false,
    "ExecuteTime": {
     "end_time": "2024-03-04T09:28:02.736946Z",
     "start_time": "2024-03-04T09:21:04.456595Z"
    }
   }
  },
  {
   "cell_type": "markdown",
   "source": [
    "## two directions full connect dense layer"
   ],
   "metadata": {
    "collapsed": false
   }
  },
  {
   "cell_type": "code",
   "execution_count": 11,
   "outputs": [
    {
     "name": "stdout",
     "output_type": "stream",
     "text": [
      "Epoch 0: Loss = 1.083454, accuracy = 8.3333 %\n",
      "Epoch 1: Loss = 1.066504, accuracy = 13.3333 %\n",
      "Epoch 2: Loss = 1.060517, accuracy = 21.6667 %\n",
      "Epoch 3: Loss = 1.056199, accuracy = 21.6667 %\n",
      "Epoch 4: Loss = 1.051593, accuracy = 18.3333 %\n",
      "Epoch 5: Loss = 1.051199, accuracy = 25.0000 %\n",
      "Epoch 6: Loss = 1.050228, accuracy = 20.0000 %\n",
      "Epoch 7: Loss = 1.048553, accuracy = 28.3333 %\n",
      "Epoch 8: Loss = 1.046531, accuracy = 30.0000 %\n",
      "Epoch 9: Loss = 1.046679, accuracy = 26.6667 %\n"
     ]
    }
   ],
   "source": [
    "for epoch in range(10):\n",
    "    train_accuracy, train_loss = train_net(full_model, reduced_loader, loss_function, optimizer, device)\n",
    "    print(f'Epoch {epoch}: Loss = {train_loss:.6f}, accuracy = {train_accuracy*100:.4f} %')"
   ],
   "metadata": {
    "collapsed": false,
    "ExecuteTime": {
     "end_time": "2024-03-04T09:39:43.991615Z",
     "start_time": "2024-03-04T09:30:24.657199Z"
    }
   }
  },
  {
   "cell_type": "markdown",
   "source": [
    "## one direction connect dense layer"
   ],
   "metadata": {
    "collapsed": false
   }
  },
  {
   "cell_type": "code",
   "execution_count": 15,
   "outputs": [
    {
     "name": "stdout",
     "output_type": "stream",
     "text": [
      "Epoch 0: Loss = 1.195591, accuracy = 13.3333 %\n",
      "Epoch 1: Loss = 1.136768, accuracy = 20.0000 %\n",
      "Epoch 2: Loss = 1.126574, accuracy = 18.3333 %\n",
      "Epoch 3: Loss = 1.119312, accuracy = 20.0000 %\n",
      "Epoch 4: Loss = 1.113273, accuracy = 23.3333 %\n",
      "Epoch 5: Loss = 1.114937, accuracy = 23.3333 %\n",
      "Epoch 6: Loss = 1.111925, accuracy = 25.0000 %\n",
      "Epoch 7: Loss = 1.107330, accuracy = 31.6667 %\n",
      "Epoch 8: Loss = 1.108248, accuracy = 23.3333 %\n",
      "Epoch 9: Loss = 1.105261, accuracy = 26.6667 %\n"
     ]
    }
   ],
   "source": [
    "for epoch in range(10):\n",
    "    train_accuracy, train_loss = train_net(full_model, reduced_loader, loss_function, optimizer, device)\n",
    "    print(f'Epoch {epoch}: Loss = {train_loss:.6f}, accuracy = {train_accuracy*100:.4f} %')"
   ],
   "metadata": {
    "collapsed": false,
    "ExecuteTime": {
     "end_time": "2024-03-04T09:50:08.438835Z",
     "start_time": "2024-03-04T09:43:15.917756Z"
    }
   }
  },
  {
   "cell_type": "markdown",
   "source": [
    "## two directions connect dense layer"
   ],
   "metadata": {
    "collapsed": false
   }
  },
  {
   "cell_type": "code",
   "execution_count": 6,
   "outputs": [
    {
     "name": "stderr",
     "output_type": "stream",
     "text": [
      "/Users/letao/anaconda3/envs/env0/lib/python3.11/site-packages/torch/_tensor.py:885: UserWarning: non-inplace resize is deprecated\n",
      "  warnings.warn(\"non-inplace resize is deprecated\")\n"
     ]
    },
    {
     "name": "stdout",
     "output_type": "stream",
     "text": [
      "Epoch 0: Loss = 1.186986, accuracy = 13.3333 %\n",
      "Epoch 1: Loss = 1.151447, accuracy = 18.3333 %\n",
      "Epoch 2: Loss = 1.134318, accuracy = 30.0000 %\n",
      "Epoch 3: Loss = 1.129754, accuracy = 26.6667 %\n",
      "Epoch 4: Loss = 1.116979, accuracy = 26.6667 %\n",
      "Epoch 5: Loss = 1.108586, accuracy = 28.3333 %\n",
      "Epoch 6: Loss = 1.103779, accuracy = 28.3333 %\n",
      "Epoch 7: Loss = 1.101172, accuracy = 25.0000 %\n",
      "Epoch 8: Loss = 1.100642, accuracy = 28.3333 %\n",
      "Epoch 9: Loss = 1.095588, accuracy = 28.3333 %\n"
     ]
    }
   ],
   "source": [
    "for epoch in range(10):\n",
    "    train_accuracy, train_loss = train_net(full_model, reduced_loader, loss_function, optimizer, device)\n",
    "    print(f'Epoch {epoch}: Loss = {train_loss:.6f}, accuracy = {train_accuracy*100:.4f} %')"
   ],
   "metadata": {
    "collapsed": false,
    "ExecuteTime": {
     "end_time": "2024-03-04T10:05:49.572525Z",
     "start_time": "2024-03-04T09:58:59.935620Z"
    }
   }
  }
 ],
 "metadata": {
  "kernelspec": {
   "name": "env0",
   "language": "python",
   "display_name": "env0"
  },
  "language_info": {
   "codemirror_mode": {
    "name": "ipython",
    "version": 2
   },
   "file_extension": ".py",
   "mimetype": "text/x-python",
   "name": "python",
   "nbconvert_exporter": "python",
   "pygments_lexer": "ipython2",
   "version": "2.7.6"
  }
 },
 "nbformat": 4,
 "nbformat_minor": 0
}
