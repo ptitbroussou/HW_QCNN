{
 "cells": [
  {
   "cell_type": "markdown",
   "metadata": {},
   "source": [
    "# Quantum Convolutional Neural Network "
   ]
  },
  {
   "cell_type": "markdown",
   "metadata": {},
   "source": [
    "## <ins> Convolutional Architecture Building blocks <ins>\n",
    "\n",
    "In this section, we design and test each part of the QCNN in comparison with PennyLane simulation to ensure the good simulation of the results."
   ]
  },
  {
   "cell_type": "code",
   "execution_count": 13,
   "metadata": {
    "ExecuteTime": {
     "end_time": "2024-05-24T13:57:25.460840Z",
     "start_time": "2024-05-24T13:57:25.458520Z"
    }
   },
   "outputs": [],
   "source": [
    "from PennyLane_toolbox import *\n",
    "from toolbox import *"
   ]
  },
  {
   "cell_type": "markdown",
   "metadata": {},
   "source": [
    "### <font color='red'>Conv Layer:</font>\n",
    "\n",
    "We first start with the convolution layer."
   ]
  },
  {
   "cell_type": "code",
   "execution_count": 2,
   "metadata": {
    "ExecuteTime": {
     "end_time": "2024-05-24T13:56:56.371737Z",
     "start_time": "2024-05-24T13:56:56.366149Z"
    }
   },
   "outputs": [],
   "source": [
    "from Conv_Layer import *"
   ]
  },
  {
   "cell_type": "markdown",
   "metadata": {},
   "source": [
    "Let's define a common initial state that we can use to test our Pytorch simulation:"
   ]
  },
  {
   "cell_type": "code",
   "execution_count": 3,
   "metadata": {
    "ExecuteTime": {
     "end_time": "2024-05-24T13:56:58.010906Z",
     "start_time": "2024-05-24T13:56:57.958882Z"
    }
   },
   "outputs": [
    {
     "name": "stdout",
     "output_type": "stream",
     "text": [
      "Initial state in the Hamming weight basis:\n",
      "tensor([ 0.0000,  0.0000,  0.0000,  0.5000, -0.5000,  0.0000,  0.0000,  0.0000,\n",
      "         0.0000, -0.5000,  0.5000,  0.0000,  0.0000,  0.0000,  0.0000,  0.0000,\n",
      "         0.0000,  0.0000,  0.0000,  0.0000,  0.0000,  0.0000,  0.0000,  0.0000,\n",
      "         0.0000,  0.0000,  0.0000,  0.0000])\n",
      "Initial state in the Image basis:\n",
      "tensor([ 0.5000, -0.5000,  0.0000,  0.0000, -0.5000,  0.5000,  0.0000,  0.0000,\n",
      "         0.0000,  0.0000,  0.0000,  0.0000,  0.0000,  0.0000,  0.0000,  0.0000])\n"
     ]
    }
   ],
   "source": [
    "n, k = 8, 2\n",
    "# Filter size:\n",
    "K = 4\n",
    "\n",
    "dev = qml.device(\"default.qubit\", wires=n)\n",
    "\n",
    "@qml.qnode(dev)\n",
    "def circuit(angle):\n",
    "    qml.PauliX(wires=0)\n",
    "    qml.PauliX(wires=4)\n",
    "    RBS(0,1, angle)\n",
    "    RBS(4,5, angle)\n",
    "    return qml.state()\n",
    "\n",
    "# We express the final state in the basis of Hamming weight k:\n",
    "map = map_RBS(n,k)\n",
    "initial_state = map_Computational_Basis_to_HW_Subspace(n,k,map,torch.tensor(circuit(torch.pi/4)))\n",
    "initial_rho = torch.einsum('i,j->ij', initial_state, initial_state) # outer product\n",
    "print(\"Initial state in the Hamming weight basis:\")\n",
    "print(initial_state)\n",
    "# We express the final state in the Image basis:\n",
    "map_I2 = map_RBS_I2_2D(n//2)\n",
    "print(\"Initial state in the Image basis:\")\n",
    "initial_state_I2 = map_Computational_Basis_to_Image_Square_Subspace(n,map_I2,torch.tensor(circuit(torch.pi/4)))\n",
    "initial_rho_I2 = torch.einsum('i,j->ij', initial_state_I2, initial_state_I2)\n",
    "print(initial_state_I2)"
   ]
  },
  {
   "cell_type": "markdown",
   "metadata": {},
   "source": [
    "We can now test our convolutional layer <ins>__using Pytorch__<ins>:"
   ]
  },
  {
   "cell_type": "code",
   "execution_count": 4,
   "metadata": {
    "ExecuteTime": {
     "end_time": "2024-05-24T13:56:59.925854Z",
     "start_time": "2024-05-24T13:56:59.896958Z"
    }
   },
   "outputs": [
    {
     "name": "stdout",
     "output_type": "stream",
     "text": [
      "tensor([[ 0.0000,  0.0000,  0.0000,  0.0344, -0.0864,  0.1576, -0.0217,  0.0000,\n",
      "          0.0000, -0.0699,  0.1755, -0.3202,  0.0442,  0.0000,  0.1603, -0.4024,\n",
      "          0.7343, -0.1013, -0.0557,  0.1397, -0.2550,  0.0352,  0.0000,  0.0000,\n",
      "          0.0000,  0.0000,  0.0000,  0.0000]], grad_fn=<SqueezeBackward1>)\n",
      "tensor([[ 0.0313, -0.1521, -0.3446,  0.2734,  0.0196, -0.0955, -0.2163,  0.1716,\n",
      "         -0.0558,  0.2715,  0.6151, -0.4879,  0.0039, -0.0190, -0.0430,  0.0341]],\n",
      "       grad_fn=<SqueezeBackward1>)\n"
     ]
    }
   ],
   "source": [
    "# Hardware accelerator:\n",
    "device = torch.device(\"cpu\")  # Only using CPU\n",
    "\n",
    "### Pytorch simulation:\n",
    "CONV = Conv_RBS_state_vector(n//2,K,device)\n",
    "CONV_I2 = Conv_RBS_state_vector_I2(n//2,K,device)\n",
    "out_1 = CONV.forward(initial_state.unsqueeze(0)) # Unsqueeze to add batch dimension\n",
    "out_2 = CONV_I2.forward(initial_state_I2.unsqueeze(0)) # Unsqueeze to add batch dimension\n",
    "print(out_1)\n",
    "print(out_2)"
   ]
  },
  {
   "cell_type": "markdown",
   "metadata": {},
   "source": [
    "And <ins>__using Pennylane__<ins>:\n",
    "\n",
    "Considering state simulations:"
   ]
  },
  {
   "cell_type": "code",
   "execution_count": 5,
   "metadata": {
    "ExecuteTime": {
     "end_time": "2024-05-24T13:57:02.307256Z",
     "start_time": "2024-05-24T13:57:02.263274Z"
    }
   },
   "outputs": [
    {
     "name": "stdout",
     "output_type": "stream",
     "text": [
      "tensor(2.7940e-08, grad_fn=<SumBackward0>)\n",
      "tensor(-1.1455e-07, grad_fn=<SumBackward0>)\n"
     ]
    }
   ],
   "source": [
    "### PennyLane simulation:\n",
    "# We extract the parameters from the Pytorch model:\n",
    "angles = [float(CONV.Parameters[i]) for i in range(len(CONV.Parameters))]\n",
    "angles_I2 = [float(CONV_I2.Parameters[i]) for i in range(len(CONV_I2.Parameters))]\n",
    "# We define again the circuit:\n",
    "Param_dictionary, list_gates = Conv_2D_gates([i for i in range(n)], K)\n",
    "@qml.qnode(dev)\n",
    "def Circuit_global(angles):\n",
    "    qml.PauliX(wires=0)\n",
    "    qml.PauliX(wires=4)\n",
    "    RBS(0,1, torch.pi/4)\n",
    "    RBS(4,5, torch.pi/4)\n",
    "    Conv_RBS_2D(angles, Param_dictionary, list_gates)\n",
    "    return qml.state()\n",
    "\n",
    "print(torch.sum(map_Computational_Basis_to_HW_Subspace(n,k,map,torch.tensor(Circuit_global(angles))) - out_1))\n",
    "print(torch.sum(map_Computational_Basis_to_Image_Square_Subspace(n,map_I2,torch.tensor(Circuit_global(angles_I2))) - out_2))"
   ]
  },
  {
   "cell_type": "markdown",
   "metadata": {},
   "source": [
    "Considering density matrix simulation:"
   ]
  },
  {
   "cell_type": "code",
   "execution_count": 6,
   "metadata": {
    "ExecuteTime": {
     "end_time": "2024-05-24T13:57:03.930832Z",
     "start_time": "2024-05-24T13:57:03.863786Z"
    }
   },
   "outputs": [
    {
     "name": "stdout",
     "output_type": "stream",
     "text": [
      "tensor(1.1279e-06, grad_fn=<SumBackward0>)\n",
      "tensor(9.9256e-07, grad_fn=<SumBackward0>)\n"
     ]
    }
   ],
   "source": [
    "### Pytorch simulation:\n",
    "CONV = Conv_RBS_density(n//2,K,device)\n",
    "CONV_I2 = Conv_RBS_density_I2(n//2,K,device)\n",
    "out_1 = CONV.forward(initial_rho.unsqueeze(0)) # Unsqueeze to add batch dimension\n",
    "out_2 = CONV_I2.forward(initial_rho_I2.unsqueeze(0)) # Unsqueeze to add batch dimension\n",
    "\n",
    "### PennyLane simulation:\n",
    "# We extract the parameters from the Pytorch model:\n",
    "angles = [float(CONV.Parameters[i]) for i in range(len(CONV.Parameters))]\n",
    "angles_I2 = [float(CONV_I2.Parameters[i]) for i in range(len(CONV_I2.Parameters))]\n",
    "# We define again the circuit:\n",
    "Param_dictionary, list_gates = Conv_2D_gates([i for i in range(n)], K)\n",
    "@qml.qnode(dev)\n",
    "def Circuit_global_density(angles):\n",
    "    qml.PauliX(wires=0)\n",
    "    qml.PauliX(wires=4)\n",
    "    RBS(0,1, torch.pi/4)\n",
    "    RBS(4,5, torch.pi/4)\n",
    "    Conv_RBS_2D(angles, Param_dictionary, list_gates)\n",
    "    return qml.density_matrix([i for i in range(n)])\n",
    "\n",
    "print(torch.sum(torch.abs(map_Computational_Basis_to_HW_Subspace_density(n,k,map,torch.tensor(Circuit_global_density(angles)))-out_1)))\n",
    "print(torch.sum(torch.abs(map_Computational_Basis_to_Image_Square_Subspace_density(n,map_I2,torch.tensor(Circuit_global_density(angles_I2)))-out_2)))"
   ]
  },
  {
   "cell_type": "markdown",
   "metadata": {},
   "source": [
    "### <font color='red'>Dense Layer:</font>\n",
    "\n",
    "We now study the simulation of the Dense Layer. We will use the same initial state than for the Convolutional layer section."
   ]
  },
  {
   "cell_type": "code",
   "execution_count": 7,
   "metadata": {
    "ExecuteTime": {
     "end_time": "2024-05-24T13:57:05.747725Z",
     "start_time": "2024-05-24T13:57:05.740510Z"
    }
   },
   "outputs": [],
   "source": [
    "from Dense import *"
   ]
  },
  {
   "cell_type": "code",
   "execution_count": 8,
   "metadata": {
    "ExecuteTime": {
     "end_time": "2024-05-24T13:57:06.573473Z",
     "start_time": "2024-05-24T13:57:06.564044Z"
    }
   },
   "outputs": [],
   "source": [
    "# Hardware accelerator:\n",
    "device = torch.device(\"cpu\")  # Only using CPU\n",
    "\n",
    "# Dense layer definition:\n",
    "list_gates = [(i,i+1) for i in range(n-1)]\n",
    "\n",
    "### Pytorch simulation:\n",
    "Dense = Dense_RBS_state_vector(n//2,list_gates,device)\n",
    "Dense_density = Dense_RBS_density(n//2,list_gates,device)"
   ]
  },
  {
   "cell_type": "markdown",
   "metadata": {},
   "source": [
    "We define the equivalent Pennylane simulation:"
   ]
  },
  {
   "cell_type": "code",
   "execution_count": 9,
   "metadata": {
    "ExecuteTime": {
     "end_time": "2024-05-24T13:57:07.766228Z",
     "start_time": "2024-05-24T13:57:07.720436Z"
    }
   },
   "outputs": [
    {
     "name": "stdout",
     "output_type": "stream",
     "text": [
      "tensor(1.6880e-07, grad_fn=<SumBackward0>)\n",
      "tensor(7.6548e-07, grad_fn=<SumBackward0>)\n"
     ]
    }
   ],
   "source": [
    "@qml.qnode(dev)\n",
    "def Circuit_global(angles):\n",
    "    qml.PauliX(wires=0)\n",
    "    qml.PauliX(wires=4)\n",
    "    RBS(0,1, torch.pi/4)\n",
    "    RBS(4,5, torch.pi/4)\n",
    "    dense_RBS(angles, list_gates)\n",
    "    return qml.state()\n",
    "\n",
    "@qml.qnode(dev)\n",
    "def Circuit_global_density(angles):\n",
    "    qml.PauliX(wires=0)\n",
    "    qml.PauliX(wires=4)\n",
    "    RBS(0,1, torch.pi/4)\n",
    "    RBS(4,5, torch.pi/4)\n",
    "    dense_RBS(angles, list_gates)\n",
    "    return qml.density_matrix([i for i in range(n)])\n",
    "\n",
    "# We extract the parameters from the Pytorch model:\n",
    "angles = [float(Dense.RBS_gates[i].angle) for i in range(len(Dense.RBS_gates))]\n",
    "angles_density = [float(Dense_density.RBS_gates[i].angle) for i in range(len(Dense_density.RBS_gates))]\n",
    "\n",
    "out_1 = Dense.forward(initial_state.unsqueeze(0)) # Unsqueeze to add batch dimension\n",
    "out_2 = Dense_density.forward(initial_rho.unsqueeze(0)) # Unsqueeze to add batch dimension\n",
    "print(torch.sum(torch.abs(map_Computational_Basis_to_HW_Subspace(n,k,map,torch.tensor(Circuit_global(angles))) - out_1)))\n",
    "print(torch.sum(torch.abs(map_Computational_Basis_to_HW_Subspace_density(n,k,map,torch.tensor(Circuit_global_density(angles_density))) - out_2)))"
   ]
  },
  {
   "cell_type": "markdown",
   "metadata": {},
   "source": [
    "### <font color='red'>Pooling Layer:</font>\n",
    "\n",
    "We now study the simulation of the Pooling Layer"
   ]
  },
  {
   "cell_type": "code",
   "execution_count": 10,
   "metadata": {
    "ExecuteTime": {
     "end_time": "2024-05-24T13:57:10.282331Z",
     "start_time": "2024-05-24T13:57:10.277153Z"
    }
   },
   "outputs": [],
   "source": [
    "from Pooling import *"
   ]
  },
  {
   "cell_type": "markdown",
   "metadata": {},
   "source": [
    "We can now test our pooling layer <ins>__using Pytorch__<ins>:"
   ]
  },
  {
   "cell_type": "code",
   "execution_count": 11,
   "metadata": {
    "ExecuteTime": {
     "end_time": "2024-05-24T13:57:11.085091Z",
     "start_time": "2024-05-24T13:57:11.076317Z"
    }
   },
   "outputs": [],
   "source": [
    "# Hardware accelerator:\n",
    "device = torch.device(\"cpu\")  # Only using CPU\n",
    "\n",
    "### Pytorch simulation:\n",
    "model = nn.Sequential(Conv_RBS_density_I2(n//2,K,device),Pooling_2D_density(n//2,n//4,device))\n",
    "out_model = model(initial_rho_I2.unsqueeze(0))\n",
    "# print(out_model.squeeze())"
   ]
  },
  {
   "cell_type": "markdown",
   "metadata": {},
   "source": [
    "Let's do the same simulation using PennyLane, showing that the two results are same"
   ]
  },
  {
   "cell_type": "code",
   "execution_count": 12,
   "metadata": {
    "ExecuteTime": {
     "end_time": "2024-05-24T13:57:12.315453Z",
     "start_time": "2024-05-24T13:57:12.292075Z"
    }
   },
   "outputs": [
    {
     "name": "stdout",
     "output_type": "stream",
     "text": [
      "tensor(6.7535e-08, grad_fn=<SumBackward0>)\n"
     ]
    }
   ],
   "source": [
    "def load_parameters(conv):\n",
    "    angles = [float(conv.Parameters[i]) for i in range(len(conv.Parameters))]\n",
    "    Param_dictionary, list_gates = Conv_2D_gates([i for i in range(n)], K)\n",
    "    return angles, Param_dictionary, list_gates\n",
    "\n",
    "angles, Param_dictionary, list_gates =  load_parameters(model[0])\n",
    "\n",
    "@qml.qnode(dev)\n",
    "def Circuit_global(angles):\n",
    "    qml.PauliX(wires=0)\n",
    "    qml.PauliX(wires=4)\n",
    "    RBS(0,1, torch.pi/4)\n",
    "    RBS(4,5, torch.pi/4)\n",
    "    Conv_RBS_2D(angles, Param_dictionary, list_gates)\n",
    "    Pool_2D([i for i in range(n)])\n",
    "    return qml.density_matrix([1,3,5,7])\n",
    "\n",
    "new_n = n//2\n",
    "out_cp = torch.tensor(Circuit_global(angles))\n",
    "out_simulation = map_Computational_Basis_to_Image_Square_Subspace_density(new_n, map_RBS_I2_2D(new_n//2), out_cp)\n",
    "print(torch.sum(out_simulation-out_model))"
   ]
  }
 ],
 "metadata": {
  "kernelspec": {
   "name": "env0",
   "language": "python",
   "display_name": "env0"
  },
  "language_info": {
   "codemirror_mode": {
    "name": "ipython",
    "version": 3
   },
   "file_extension": ".py",
   "mimetype": "text/x-python",
   "name": "python",
   "nbconvert_exporter": "python",
   "pygments_lexer": "ipython3",
   "version": "3.9.1"
  },
  "orig_nbformat": 4
 },
 "nbformat": 4,
 "nbformat_minor": 2
}
