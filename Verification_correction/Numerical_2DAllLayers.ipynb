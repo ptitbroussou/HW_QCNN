{
 "cells": [
  {
   "cell_type": "markdown",
   "metadata": {},
   "source": [
    "# Quantum Convolutional Neural Network "
   ]
  },
  {
   "cell_type": "markdown",
   "metadata": {},
   "source": [
    "## <ins> Convolutional Architecture Building blocks <ins>\n",
    "\n",
    "In this section, we design and test each part of the QCNN in comparison with PennyLane simulation to ensure the good simulation of the results."
   ]
  },
  {
   "cell_type": "code",
   "execution_count": 2,
   "metadata": {
    "ExecuteTime": {
     "end_time": "2024-05-24T21:16:31.440247Z",
     "start_time": "2024-05-24T21:16:31.433417Z"
    }
   },
   "outputs": [],
   "source": [
    "import os, sys\n",
    "\n",
    "sys.path.append(os.path.dirname(os.path.abspath('')))\n",
    "\n",
    "from Verification_correction.PennyLane_toolbox import *\n",
    "from src.toolbox import *"
   ]
  },
  {
   "cell_type": "markdown",
   "metadata": {},
   "source": [
    "### <font color='red'>Conv Layer:</font>\n",
    "\n",
    "We first start with the convolution layer.\n",
    "Let's define a common initial state that we can use to test our Pytorch simulation:"
   ]
  },
  {
   "cell_type": "code",
   "execution_count": 3,
   "metadata": {
    "ExecuteTime": {
     "end_time": "2024-05-24T21:16:32.272136Z",
     "start_time": "2024-05-24T21:16:32.225787Z"
    }
   },
   "outputs": [
    {
     "name": "stdout",
     "output_type": "stream",
     "text": [
      "Initial state in the Hamming weight basis:\n",
      "tensor([ 0.0000,  0.0000,  0.0000,  0.5000, -0.5000,  0.0000,  0.0000,  0.0000,\n",
      "         0.0000, -0.5000,  0.5000,  0.0000,  0.0000,  0.0000,  0.0000,  0.0000,\n",
      "         0.0000,  0.0000,  0.0000,  0.0000,  0.0000,  0.0000,  0.0000,  0.0000,\n",
      "         0.0000,  0.0000,  0.0000,  0.0000])\n",
      "Initial state in the Image basis:\n",
      "tensor([ 0.5000, -0.5000,  0.0000,  0.0000, -0.5000,  0.5000,  0.0000,  0.0000,\n",
      "         0.0000,  0.0000,  0.0000,  0.0000,  0.0000,  0.0000,  0.0000,  0.0000])\n"
     ]
    }
   ],
   "source": [
    "from src.QCNN_layers.Conv_layer import *\n",
    "\n",
    "n, k = 8, 2\n",
    "# Filter size:\n",
    "K = 4\n",
    "\n",
    "dev = qml.device(\"default.qubit\", wires=n)\n",
    "\n",
    "@qml.qnode(dev)\n",
    "def circuit(angle):\n",
    "    qml.PauliX(wires=0)\n",
    "    qml.PauliX(wires=4)\n",
    "    RBS(0,1, angle)\n",
    "    RBS(4,5, angle)\n",
    "    return qml.state()\n",
    "\n",
    "# We express the final state in the basis of Hamming weight k:\n",
    "map = map_RBS(n,k)\n",
    "initial_state = map_Computational_Basis_to_HW_Subspace(n,k,map,torch.tensor(circuit(torch.pi/4)))\n",
    "initial_rho = torch.einsum('i,j->ij', initial_state, initial_state) # outer product\n",
    "print(\"Initial state in the Hamming weight basis:\")\n",
    "print(initial_state)\n",
    "# We express the final state in the Image basis:\n",
    "map_I2 = map_RBS_I2_2D(n//2)\n",
    "print(\"Initial state in the Image basis:\")\n",
    "initial_state_I2 = map_Computational_Basis_to_Image_Square_Subspace(n,map_I2,torch.tensor(circuit(torch.pi/4)))\n",
    "initial_rho_I2 = torch.einsum('i,j->ij', initial_state_I2, initial_state_I2)\n",
    "print(initial_state_I2)"
   ]
  },
  {
   "cell_type": "markdown",
   "metadata": {},
   "source": [
    "We can now test our convolutional layer <ins>__using Pytorch__<ins>:"
   ]
  },
  {
   "cell_type": "code",
   "execution_count": 4,
   "metadata": {
    "ExecuteTime": {
     "end_time": "2024-05-24T21:16:34.540427Z",
     "start_time": "2024-05-24T21:16:34.511633Z"
    }
   },
   "outputs": [
    {
     "name": "stdout",
     "output_type": "stream",
     "text": [
      "tensor([[ 0.0000e+00,  0.0000e+00,  0.0000e+00,  3.7865e-01,  5.1176e-01,\n",
      "         -1.9259e-01,  2.0219e-03,  0.0000e+00,  0.0000e+00, -2.7276e-01,\n",
      "         -3.6865e-01,  1.3874e-01, -1.4565e-03,  0.0000e+00, -3.2602e-01,\n",
      "         -4.4064e-01,  1.6583e-01, -1.7409e-03,  6.5357e-03,  8.8333e-03,\n",
      "         -3.3243e-03,  3.4900e-05,  0.0000e+00,  0.0000e+00,  0.0000e+00,\n",
      "          0.0000e+00,  0.0000e+00,  0.0000e+00]], grad_fn=<SqueezeBackward1>)\n",
      "tensor([[-0.0303, -0.0597,  0.0752, -0.0350,  0.1636,  0.3219, -0.4060,  0.1889,\n",
      "         -0.1917, -0.3773,  0.4758, -0.2214,  0.1282,  0.2523, -0.3181,  0.1480]],\n",
      "       grad_fn=<SqueezeBackward1>)\n"
     ]
    }
   ],
   "source": [
    "# Hardware accelerator:\n",
    "device = torch.device(\"cpu\")  # Only using CPU\n",
    "\n",
    "### Pytorch simulation:\n",
    "CONV = Conv_RBS_state_vector(n//2,K,device)\n",
    "CONV_I2 = Conv_RBS_state_vector_I2(n//2,K,device)\n",
    "out_1 = CONV.forward(initial_state.unsqueeze(0)) # Unsqueeze to add batch dimension\n",
    "out_2 = CONV_I2.forward(initial_state_I2.unsqueeze(0)) # Unsqueeze to add batch dimension\n",
    "print(out_1)\n",
    "print(out_2)"
   ]
  },
  {
   "cell_type": "markdown",
   "metadata": {},
   "source": [
    "And <ins>__using Pennylane__<ins>:\n",
    "\n",
    "Considering state simulations:"
   ]
  },
  {
   "cell_type": "code",
   "execution_count": 5,
   "metadata": {
    "ExecuteTime": {
     "end_time": "2024-05-24T21:16:36.666790Z",
     "start_time": "2024-05-24T21:16:36.619711Z"
    }
   },
   "outputs": [
    {
     "name": "stdout",
     "output_type": "stream",
     "text": [
      "tensor(1.4432e-08, grad_fn=<SumBackward0>)\n",
      "tensor(1.3039e-08, grad_fn=<SumBackward0>)\n"
     ]
    }
   ],
   "source": [
    "### PennyLane simulation:\n",
    "# We extract the parameters from the Pytorch model:\n",
    "angles = [float(CONV.Parameters[i]) for i in range(len(CONV.Parameters))]\n",
    "angles_I2 = [float(CONV_I2.Parameters[i]) for i in range(len(CONV_I2.Parameters))]\n",
    "# We define again the circuit:\n",
    "Param_dictionary, list_gates = Conv_2D_gates([i for i in range(n)], K)\n",
    "@qml.qnode(dev)\n",
    "def Circuit_global(angles):\n",
    "    qml.PauliX(wires=0)\n",
    "    qml.PauliX(wires=4)\n",
    "    RBS(0,1, torch.pi/4)\n",
    "    RBS(4,5, torch.pi/4)\n",
    "    Conv_RBS_2D(angles, Param_dictionary, list_gates)\n",
    "    return qml.state()\n",
    "\n",
    "print(torch.sum(map_Computational_Basis_to_HW_Subspace(n,k,map,torch.tensor(Circuit_global(angles))) - out_1))\n",
    "print(torch.sum(map_Computational_Basis_to_Image_Square_Subspace(n,map_I2,torch.tensor(Circuit_global(angles_I2))) - out_2))"
   ]
  },
  {
   "cell_type": "markdown",
   "metadata": {},
   "source": [
    "Considering density matrix simulation:"
   ]
  },
  {
   "cell_type": "code",
   "execution_count": 6,
   "metadata": {
    "ExecuteTime": {
     "end_time": "2024-05-24T21:16:38.123485Z",
     "start_time": "2024-05-24T21:16:38.053512Z"
    }
   },
   "outputs": [
    {
     "name": "stdout",
     "output_type": "stream",
     "text": [
      "tensor(1.6465e-06, grad_fn=<SumBackward0>)\n",
      "tensor(1.0818e-06, grad_fn=<SumBackward0>)\n"
     ]
    }
   ],
   "source": [
    "### Pytorch simulation:\n",
    "CONV = Conv_RBS_density(n//2,K,device)\n",
    "CONV_I2 = Conv_RBS_density_I2(n//2,K,device)\n",
    "out_1 = CONV.forward(initial_rho.unsqueeze(0)) # Unsqueeze to add batch dimension\n",
    "out_2 = CONV_I2.forward(initial_rho_I2.unsqueeze(0)) # Unsqueeze to add batch dimension\n",
    "\n",
    "### PennyLane simulation:\n",
    "# We extract the parameters from the Pytorch model:\n",
    "angles = [float(CONV.Parameters[i]) for i in range(len(CONV.Parameters))]\n",
    "angles_I2 = [float(CONV_I2.Parameters[i]) for i in range(len(CONV_I2.Parameters))]\n",
    "# We define again the circuit:\n",
    "Param_dictionary, list_gates = Conv_2D_gates([i for i in range(n)], K)\n",
    "@qml.qnode(dev)\n",
    "def Circuit_global_density(angles):\n",
    "    qml.PauliX(wires=0)\n",
    "    qml.PauliX(wires=4)\n",
    "    RBS(0,1, torch.pi/4)\n",
    "    RBS(4,5, torch.pi/4)\n",
    "    Conv_RBS_2D(angles, Param_dictionary, list_gates)\n",
    "    return qml.density_matrix([i for i in range(n)])\n",
    "\n",
    "print(torch.sum(torch.abs(map_Computational_Basis_to_HW_Subspace_density(n,k,map,torch.tensor(Circuit_global_density(angles)))-out_1)))\n",
    "print(torch.sum(torch.abs(map_Computational_Basis_to_Image_Square_Subspace_density(n,map_I2,torch.tensor(Circuit_global_density(angles_I2)))-out_2)))"
   ]
  },
  {
   "cell_type": "markdown",
   "metadata": {},
   "source": [
    "### <font color='red'>Dense Layer:</font>\n",
    "\n",
    "We now study the simulation of the Dense Layer. We will use the same initial state than for the Convolutional layer section."
   ]
  },
  {
   "cell_type": "code",
   "execution_count": 7,
   "metadata": {
    "ExecuteTime": {
     "end_time": "2024-05-24T21:16:44.606818Z",
     "start_time": "2024-05-24T21:16:44.602248Z"
    }
   },
   "outputs": [],
   "source": [
    "from src.QCNN_layers.Dense_layer import *"
   ]
  },
  {
   "cell_type": "code",
   "execution_count": 9,
   "metadata": {
    "ExecuteTime": {
     "end_time": "2024-05-24T21:16:46.192559Z",
     "start_time": "2024-05-24T21:16:46.182818Z"
    }
   },
   "outputs": [
    {
     "ename": "IndexError",
     "evalue": "pop index out of range",
     "output_type": "error",
     "traceback": [
      "\u001b[0;31m---------------------------------------------------------------------------\u001b[0m",
      "\u001b[0;31mIndexError\u001b[0m                                Traceback (most recent call last)",
      "Cell \u001b[0;32mIn[9], line 9\u001b[0m\n\u001b[1;32m      7\u001b[0m \u001b[38;5;66;03m### Pytorch simulation:\u001b[39;00m\n\u001b[1;32m      8\u001b[0m Dense \u001b[38;5;241m=\u001b[39m Dense_RBS_state_vector(n\u001b[38;5;241m/\u001b[39m\u001b[38;5;241m/\u001b[39m\u001b[38;5;241m2\u001b[39m,list_gates,device)\n\u001b[0;32m----> 9\u001b[0m Dense_density \u001b[38;5;241m=\u001b[39m \u001b[43mDense_RBS_density\u001b[49m\u001b[43m(\u001b[49m\u001b[43mn\u001b[49m\u001b[38;5;241;43m/\u001b[39;49m\u001b[38;5;241;43m/\u001b[39;49m\u001b[38;5;241;43m2\u001b[39;49m\u001b[43m,\u001b[49m\u001b[43mlist_gates\u001b[49m\u001b[43m,\u001b[49m\u001b[43mdevice\u001b[49m\u001b[43m)\u001b[49m\n",
      "File \u001b[0;32m~/Documents/GitHub/HW_QCNN/src/QCNN_layers/Dense_layer.py:308\u001b[0m, in \u001b[0;36mDense_RBS_density.__init__\u001b[0;34m(self, n, list_gates, device)\u001b[0m\n\u001b[1;32m    306\u001b[0m \u001b[38;5;28msuper\u001b[39m()\u001b[38;5;241m.\u001b[39m\u001b[38;5;21m__init__\u001b[39m()\n\u001b[1;32m    307\u001b[0m \u001b[38;5;66;03m# We only store the RBS unitary corresponding to an edge in the qubit connectivity: \u001b[39;00m\n\u001b[0;32m--> 308\u001b[0m \u001b[38;5;28mself\u001b[39m\u001b[38;5;241m.\u001b[39mRBS_Unitaries_dict \u001b[38;5;241m=\u001b[39m \u001b[43mRBS_Unitaries\u001b[49m\u001b[43m(\u001b[49m\u001b[43mn\u001b[49m\u001b[43m,\u001b[49m\u001b[43m \u001b[49m\u001b[38;5;241;43m2\u001b[39;49m\u001b[43m,\u001b[49m\u001b[43m \u001b[49m\u001b[43mlist_gates\u001b[49m\u001b[43m,\u001b[49m\u001b[43m \u001b[49m\u001b[43mdevice\u001b[49m\u001b[43m)\u001b[49m\n\u001b[1;32m    309\u001b[0m \u001b[38;5;28mself\u001b[39m\u001b[38;5;241m.\u001b[39mRBS_gates \u001b[38;5;241m=\u001b[39m nn\u001b[38;5;241m.\u001b[39mModuleList([RBS_Dense_density(list_gates[i], device) \u001b[38;5;28;01mfor\u001b[39;00m i \u001b[38;5;129;01min\u001b[39;00m \u001b[38;5;28mrange\u001b[39m(\u001b[38;5;28mlen\u001b[39m(list_gates))])\n",
      "File \u001b[0;32m~/Documents/GitHub/HW_QCNN/src/RBS_Circuit.py:74\u001b[0m, in \u001b[0;36mRBS_Unitaries\u001b[0;34m(n, k, list_gates, device)\u001b[0m\n\u001b[1;32m     72\u001b[0m mapping_RBS \u001b[38;5;241m=\u001b[39m map_RBS(n, k)\n\u001b[1;32m     73\u001b[0m \u001b[38;5;28;01mfor\u001b[39;00m (i,j) \u001b[38;5;129;01min\u001b[39;00m qubit_edges:\n\u001b[0;32m---> 74\u001b[0m     RBS_Unitaries_dict[(i,j)] \u001b[38;5;241m=\u001b[39m RBS_Unitary(\u001b[38;5;28mint\u001b[39m(binom(n,k)), \u001b[43mRBS_generalized\u001b[49m\u001b[43m(\u001b[49m\u001b[43mi\u001b[49m\u001b[43m,\u001b[49m\u001b[43mj\u001b[49m\u001b[43m,\u001b[49m\u001b[43mn\u001b[49m\u001b[43m,\u001b[49m\u001b[43mk\u001b[49m\u001b[43m,\u001b[49m\u001b[43mmapping_RBS\u001b[49m\u001b[43m)\u001b[49m, device)\n\u001b[1;32m     75\u001b[0m \u001b[38;5;28;01mreturn\u001b[39;00m(RBS_Unitaries_dict)\n",
      "File \u001b[0;32m~/Documents/GitHub/HW_QCNN/src/toolbox.py:47\u001b[0m, in \u001b[0;36mRBS_generalized\u001b[0;34m(a, b, n, k, mapping_RBS)\u001b[0m\n\u001b[1;32m     45\u001b[0m \u001b[38;5;66;03m# List of qubits except a and b:\u001b[39;00m\n\u001b[1;32m     46\u001b[0m list_qubit \u001b[38;5;241m=\u001b[39m [i \u001b[38;5;28;01mfor\u001b[39;00m i \u001b[38;5;129;01min\u001b[39;00m \u001b[38;5;28mrange\u001b[39m(n)]\n\u001b[0;32m---> 47\u001b[0m \u001b[43mlist_qubit\u001b[49m\u001b[38;5;241;43m.\u001b[39;49m\u001b[43mpop\u001b[49m\u001b[43m(\u001b[49m\u001b[38;5;28;43mmax\u001b[39;49m\u001b[43m(\u001b[49m\u001b[43ma\u001b[49m\u001b[43m,\u001b[49m\u001b[43m \u001b[49m\u001b[43mb\u001b[49m\u001b[43m)\u001b[49m\u001b[43m)\u001b[49m\n\u001b[1;32m     48\u001b[0m list_qubit\u001b[38;5;241m.\u001b[39mpop(\u001b[38;5;28mmin\u001b[39m(a, b))\n\u001b[1;32m     49\u001b[0m \u001b[38;5;66;03m# We create the list of possible active qubit set for this RBS:\u001b[39;00m\n",
      "\u001b[0;31mIndexError\u001b[0m: pop index out of range"
     ]
    }
   ],
   "source": [
    "# Hardware accelerator:\n",
    "device = torch.device(\"cpu\")  # Only using CPU\n",
    "\n",
    "# Dense layer definition:\n",
    "list_gates = [(i,i+1) for i in range(n-1)]\n",
    "\n",
    "### Pytorch simulation:\n",
    "Dense = Dense_RBS_state_vector(n//2,list_gates,device)\n",
    "Dense_density = Dense_RBS_density(n//2,list_gates,device)"
   ]
  },
  {
   "cell_type": "markdown",
   "metadata": {},
   "source": [
    "We define the equivalent Pennylane simulation:"
   ]
  },
  {
   "cell_type": "code",
   "execution_count": 12,
   "metadata": {
    "ExecuteTime": {
     "end_time": "2024-05-24T21:16:47.300918Z",
     "start_time": "2024-05-24T21:16:47.251215Z"
    }
   },
   "outputs": [
    {
     "name": "stdout",
     "output_type": "stream",
     "text": [
      "tensor(1.6636e-07, grad_fn=<SumBackward0>)\n",
      "tensor(2.0758e-06, grad_fn=<SumBackward0>)\n"
     ]
    }
   ],
   "source": [
    "@qml.qnode(dev)\n",
    "def Circuit_global(angles):\n",
    "    qml.PauliX(wires=0)\n",
    "    qml.PauliX(wires=4)\n",
    "    RBS(0,1, torch.pi/4)\n",
    "    RBS(4,5, torch.pi/4)\n",
    "    dense_RBS(angles, list_gates)\n",
    "    return qml.state()\n",
    "\n",
    "@qml.qnode(dev)\n",
    "def Circuit_global_density(angles):\n",
    "    qml.PauliX(wires=0)\n",
    "    qml.PauliX(wires=4)\n",
    "    RBS(0,1, torch.pi/4)\n",
    "    RBS(4,5, torch.pi/4)\n",
    "    dense_RBS(angles, list_gates)\n",
    "    return qml.density_matrix([i for i in range(n)])\n",
    "\n",
    "# We extract the parameters from the Pytorch model:\n",
    "angles = [float(Dense.RBS_gates[i].angle) for i in range(len(Dense.RBS_gates))]\n",
    "angles_density = [float(Dense_density.RBS_gates[i].angle) for i in range(len(Dense_density.RBS_gates))]\n",
    "\n",
    "out_1 = Dense.forward(initial_state.unsqueeze(0)) # Unsqueeze to add batch dimension\n",
    "out_2 = Dense_density.forward(initial_rho.unsqueeze(0)) # Unsqueeze to add batch dimension\n",
    "print(torch.sum(torch.abs(map_Computational_Basis_to_HW_Subspace(n,k,map,torch.tensor(Circuit_global(angles))) - out_1)))\n",
    "print(torch.sum(torch.abs(map_Computational_Basis_to_HW_Subspace_density(n,k,map,torch.tensor(Circuit_global_density(angles_density))) - out_2)))"
   ]
  },
  {
   "cell_type": "markdown",
   "metadata": {},
   "source": [
    "### <font color='red'>Pooling Layer:</font>\n",
    "\n",
    "We now study the simulation of the Pooling Layer"
   ]
  },
  {
   "cell_type": "code",
   "execution_count": 13,
   "metadata": {
    "ExecuteTime": {
     "end_time": "2024-05-24T21:16:52.823276Z",
     "start_time": "2024-05-24T21:16:52.818006Z"
    }
   },
   "outputs": [],
   "source": [
    "from src.QCNN_layers.Pooling_layer import *"
   ]
  },
  {
   "cell_type": "markdown",
   "metadata": {},
   "source": [
    "We can now test our pooling layer <ins>__using Pytorch__<ins>:"
   ]
  },
  {
   "cell_type": "code",
   "execution_count": 14,
   "metadata": {
    "ExecuteTime": {
     "end_time": "2024-05-24T21:16:54.806509Z",
     "start_time": "2024-05-24T21:16:54.796781Z"
    }
   },
   "outputs": [],
   "source": [
    "# Hardware accelerator:\n",
    "device = torch.device(\"cpu\")  # Only using CPU\n",
    "\n",
    "### Pytorch simulation:\n",
    "model = nn.Sequential(Conv_RBS_density_I2(n//2,K,device),Pooling_2D_density(n//2,n//4,device))\n",
    "out_model = model(initial_rho_I2.unsqueeze(0))\n",
    "# print(out_model.squeeze())"
   ]
  },
  {
   "cell_type": "markdown",
   "metadata": {},
   "source": [
    "Let's do the same simulation using PennyLane, showing that the two results are same"
   ]
  },
  {
   "cell_type": "code",
   "execution_count": 15,
   "metadata": {
    "ExecuteTime": {
     "end_time": "2024-05-24T21:16:55.700842Z",
     "start_time": "2024-05-24T21:16:55.661347Z"
    }
   },
   "outputs": [
    {
     "name": "stdout",
     "output_type": "stream",
     "text": [
      "tensor(-2.0955e-07, grad_fn=<SumBackward0>)\n"
     ]
    }
   ],
   "source": [
    "def load_parameters(conv):\n",
    "    angles = [float(conv.Parameters[i]) for i in range(len(conv.Parameters))]\n",
    "    Param_dictionary, list_gates = Conv_2D_gates([i for i in range(n)], K)\n",
    "    return angles, Param_dictionary, list_gates\n",
    "\n",
    "angles, Param_dictionary, list_gates =  load_parameters(model[0])\n",
    "\n",
    "@qml.qnode(dev)\n",
    "def Circuit_global(angles):\n",
    "    qml.PauliX(wires=0)\n",
    "    qml.PauliX(wires=4)\n",
    "    RBS(0,1, torch.pi/4)\n",
    "    RBS(4,5, torch.pi/4)\n",
    "    Conv_RBS_2D(angles, Param_dictionary, list_gates)\n",
    "    Pool_2D([i for i in range(n)])\n",
    "    return qml.density_matrix([1,3,5,7])\n",
    "\n",
    "new_n = n//2\n",
    "out_cp = torch.tensor(Circuit_global(angles))\n",
    "out_simulation = map_Computational_Basis_to_Image_Square_Subspace_density(new_n, map_RBS_I2_2D(new_n//2), out_cp)\n",
    "print(torch.sum(out_simulation-out_model))"
   ]
  }
 ],
 "metadata": {
  "kernelspec": {
   "display_name": ".venv",
   "language": "python",
   "name": "python3"
  },
  "language_info": {
   "codemirror_mode": {
    "name": "ipython",
    "version": 3
   },
   "file_extension": ".py",
   "mimetype": "text/x-python",
   "name": "python",
   "nbconvert_exporter": "python",
   "pygments_lexer": "ipython3",
   "version": "3.9.6"
  },
  "orig_nbformat": 4
 },
 "nbformat": 4,
 "nbformat_minor": 2
}
