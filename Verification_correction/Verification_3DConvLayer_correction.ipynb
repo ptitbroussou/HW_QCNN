{
 "cells": [
  {
   "cell_type": "code",
   "execution_count": 1,
   "id": "initial_id",
   "metadata": {
    "collapsed": true,
    "ExecuteTime": {
     "end_time": "2024-04-25T14:03:38.414369Z",
     "start_time": "2024-04-25T14:03:36.042865Z"
    }
   },
   "outputs": [],
   "source": [
    "from Conv_Layer import Conv_RBS_density_I2_3D\n",
    "from PennyLane_toolbox import *\n",
    "from toolbox import *"
   ]
  },
  {
   "cell_type": "code",
   "execution_count": 2,
   "outputs": [
    {
     "name": "stdout",
     "output_type": "stream",
     "text": [
      "torch.Size([1, 32, 32])\n"
     ]
    }
   ],
   "source": [
    "I = 4\n",
    "J = 2\n",
    "K = 4\n",
    "n = I+I+J\n",
    "dev = qml.device(\"default.qubit\", wires=n)\n",
    "\n",
    "@qml.qnode(dev)\n",
    "def circuit(angle):\n",
    "    qml.PauliX(wires=0)\n",
    "    qml.PauliX(wires=I)\n",
    "    qml.PauliX(wires=2*I)\n",
    "    RBS(0,1, angle)\n",
    "    RBS(I,I+1, angle)\n",
    "    RBS(2*I,2*I+1, angle)\n",
    "    return qml.density_matrix([i for i in range(n)])\n",
    "\n",
    "map_3D = map_RBS_I2_3D_bottom(I, J)\n",
    "initial_rho_3D = map_Computational_Basis_to_Image_3D_Subspace_density(I, J, map_3D, torch.tensor(circuit(torch.pi/2))).unsqueeze(0)\n",
    "print(initial_rho_3D.shape)"
   ],
   "metadata": {
    "collapsed": false,
    "ExecuteTime": {
     "end_time": "2024-04-25T14:03:39.342147Z",
     "start_time": "2024-04-25T14:03:39.304092Z"
    }
   },
   "id": "f1872dc62d783c4a"
  },
  {
   "cell_type": "code",
   "execution_count": 3,
   "outputs": [
    {
     "name": "stdout",
     "output_type": "stream",
     "text": [
      "correct!\n"
     ]
    }
   ],
   "source": [
    "device = torch.device(\"cpu\")\n",
    "conv1 = Conv_RBS_density_I2_3D(I, K, J, device)\n",
    "conv_res = conv1(initial_rho_3D)\n",
    "angles = [float(conv1.Parameters[i]) for i in range(len(conv1.Parameters))]\n",
    "\n",
    "# We define again the circuit:\n",
    "Param_dictionary, list_gates = Conv_3D_gates(I,J,K)\n",
    "@qml.qnode(dev)\n",
    "def Circuit_global(angles):\n",
    "    qml.PauliX(wires=0)\n",
    "    qml.PauliX(wires=I)\n",
    "    qml.PauliX(wires=2*I)\n",
    "    RBS(0,1, torch.pi/2)\n",
    "    RBS(I,I+1, torch.pi/2)\n",
    "    RBS(2*I,2*I+1, torch.pi/2)\n",
    "    Conv_RBS_3D(angles, Param_dictionary, list_gates)\n",
    "    return qml.density_matrix([i for i in range(n)])\n",
    "\n",
    "penny_res = map_Computational_Basis_to_Image_3D_Subspace_density(I, J, map_3D, torch.tensor(Circuit_global(angles)))\n",
    "if abs(torch.sum(penny_res - conv_res))<1e-6:\n",
    "    print(\"correct!\")"
   ],
   "metadata": {
    "collapsed": false,
    "ExecuteTime": {
     "end_time": "2024-04-25T14:03:40.725259Z",
     "start_time": "2024-04-25T14:03:40.678947Z"
    }
   },
   "id": "481ae8a750b29761"
  }
 ],
 "metadata": {
  "kernelspec": {
   "name": "env0",
   "language": "python",
   "display_name": "env0"
  },
  "language_info": {
   "codemirror_mode": {
    "name": "ipython",
    "version": 2
   },
   "file_extension": ".py",
   "mimetype": "text/x-python",
   "name": "python",
   "nbconvert_exporter": "python",
   "pygments_lexer": "ipython2",
   "version": "2.7.6"
  }
 },
 "nbformat": 4,
 "nbformat_minor": 5
}
