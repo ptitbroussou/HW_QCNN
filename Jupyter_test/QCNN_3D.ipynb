{
 "cells": [
  {
   "cell_type": "code",
   "execution_count": 1,
   "id": "initial_id",
   "metadata": {
    "collapsed": true,
    "ExecuteTime": {
     "end_time": "2024-04-30T00:53:46.583055Z",
     "start_time": "2024-04-30T00:53:43.116029Z"
    }
   },
   "outputs": [],
   "source": [
    "from Pooling import Pooling_2D_density_3D\n",
    "from Conv_Layer import Conv_RBS_density_I2_3D\n",
    "import torch\n",
    "import gc\n",
    "import torch.nn as nn  # the neural network library of pytorch\n",
    "import load_dataset_letao as load  # module with function to load MNIST\n",
    "from toolbox import reduce_MNIST_dataset\n",
    "from training import test_net, train_net\n",
    "from Dense import Dense_RBS_density_3D\n",
    "from toolbox import Basis_Change_I_to_HW_density_3D, Trace_out_dim, get_reduced_layers_structure, map_HW_to_measure, get_full_pyramid_gates\n",
    "from training import train_net_stride\n",
    "import warnings\n",
    "warnings.simplefilter('ignore')"
   ]
  },
  {
   "cell_type": "code",
   "execution_count": 2,
   "outputs": [],
   "source": [
    "class QCNN(nn.Module):\n",
    "    def __init__(self, I, O, J, K, k, device):\n",
    "        super(QCNN, self).__init__()\n",
    "        list_gates_pyramid = get_reduced_layers_structure(O+J, 5)\n",
    "        list_gates_pyramid_small = get_full_pyramid_gates(5)\n",
    "            \n",
    "        self.conv1 = Conv_RBS_density_I2_3D(I,K,J,device)\n",
    "        self.pool1 = Pooling_2D_density_3D(I, O, J, device)\n",
    "        self.conv2 = Conv_RBS_density_I2_3D(O,K,J,device)\n",
    "        self.pool2 = Pooling_2D_density_3D(O, O//2, J, device)\n",
    "        self.basis_map = Basis_Change_I_to_HW_density_3D(O//2, J, k, device)\n",
    "        self.dense1 = Dense_RBS_density_3D(O//2, J, k, list_gates_pyramid, device)\n",
    "        self.tomo = Trace_out_dim(10, device)\n",
    "        self.dense2 = Dense_RBS_density_3D(0, 5, k, list_gates_pyramid_small, device)\n",
    "\n",
    "    def forward(self, x):\n",
    "        c1 = self.conv1(x)\n",
    "        p1 = self.pool1(c1)\n",
    "        c2 = self.conv2(p1)\n",
    "        p2 = self.pool2(c2)\n",
    "        b1 = self.basis_map(p2)\n",
    "        d1 = self.dense1(b1)\n",
    "        to = self.tomo(d1)\n",
    "        d2 = self.dense2(to)\n",
    "        output = map_HW_to_measure(d2, device)\n",
    "        return output    # return x for visualization"
   ],
   "metadata": {
    "collapsed": false,
    "ExecuteTime": {
     "end_time": "2024-04-30T00:53:48.177408Z",
     "start_time": "2024-04-30T00:53:48.173453Z"
    }
   },
   "id": "5e6b9a96bbdabe28"
  },
  {
   "cell_type": "code",
   "execution_count": 3,
   "outputs": [
    {
     "name": "stdout",
     "output_type": "stream",
     "text": [
      "Epoch 0: Loss = 2.627540, accuracy = 0.0000 %\n",
      "Evaluation on test set: Loss = 2.451135, accuracy = 8.0000 %\n",
      "Epoch 1: Loss = 2.429156, accuracy = 10.0000 %\n",
      "Epoch 2: Loss = 2.401943, accuracy = 10.0000 %\n",
      "Evaluation on test set: Loss = 2.416550, accuracy = 8.0000 %\n",
      "Epoch 3: Loss = 2.379159, accuracy = 10.0000 %\n",
      "Epoch 4: Loss = 2.302812, accuracy = 10.0000 %\n",
      "Evaluation on test set: Loss = 2.400648, accuracy = 7.0000 %\n",
      "Epoch 5: Loss = 2.234006, accuracy = 10.0000 %\n",
      "Epoch 6: Loss = 2.188027, accuracy = 10.0000 %\n",
      "Evaluation on test set: Loss = 2.388007, accuracy = 14.0000 %\n",
      "Epoch 7: Loss = 2.207392, accuracy = 20.0000 %\n",
      "Epoch 8: Loss = 2.250664, accuracy = 20.0000 %\n",
      "Evaluation on test set: Loss = 2.377637, accuracy = 14.0000 %\n",
      "Epoch 9: Loss = 2.266976, accuracy = 20.0000 %\n"
     ]
    }
   ],
   "source": [
    "\n",
    "\n",
    "I = 12 # dimension of image we use\n",
    "O = I//2 # dimension after pooling\n",
    "J = 2 # number of channel\n",
    "k = 3\n",
    "K = 2 # size of kernel\n",
    "batch_size = 10 # batch number\n",
    "scala = 6000 # time we reduce dataset\n",
    "learning_rate = 1e-1\n",
    "device = torch.device(\"mps\")\n",
    "\n",
    "train_loader, test_loader, dim_in, dim_out = load.load_MNIST(batch_size=batch_size)\n",
    "reduced_loader = reduce_MNIST_dataset(train_loader, scala)\n",
    "reduced_test_loader = reduce_MNIST_dataset(test_loader, 100)\n",
    "\n",
    "conv_network = QCNN(I, O, J, K, k, device)\n",
    "optimizer = torch.optim.Adam(conv_network.parameters(), lr=learning_rate)\n",
    "criterion = torch.nn.CrossEntropyLoss()\n",
    "\n",
    "loss_list = []\n",
    "accuracy_list = []\n",
    "for epoch in range(10):\n",
    "    train_loss, train_accuracy = train_net_stride(batch_size, I, J, k, conv_network, train_loader, criterion, optimizer, device)\n",
    "    loss_list.append(train_loss)\n",
    "    accuracy_list.append(train_accuracy*100)\n",
    "    print(f'Epoch {epoch}: Loss = {train_loss:.6f}, accuracy = {train_accuracy*100:.4f} %')\n",
    "    \n",
    "    if epoch%2 == 0:\n",
    "        test_loss, test_accuracy = test_net(batch_size, I, J, k, conv_network, reduced_test_loader, criterion, device)\n",
    "        print(f'Evaluation on test set: Loss = {test_loss:.6f}, accuracy = {test_accuracy*100:.4f} %')"
   ],
   "metadata": {
    "collapsed": false,
    "ExecuteTime": {
     "end_time": "2024-04-30T00:54:45.708380Z",
     "start_time": "2024-04-30T00:53:50.149747Z"
    }
   },
   "id": "af687d35b9095bca"
  },
  {
   "cell_type": "code",
   "execution_count": 15,
   "outputs": [
    {
     "name": "stdout",
     "output_type": "stream",
     "text": [
      "Evaluation on test set: Loss = 2.321713, accuracy = 14.0000 %\n"
     ]
    }
   ],
   "source": [
    "test_loss, test_accuracy = test_net(batch_size, I, J, k, conv_network, reduced_test_loader, criterion, device)\n",
    "print(f'Evaluation on test set: Loss = {test_loss:.6f}, accuracy = {test_accuracy*100:.4f} %')"
   ],
   "metadata": {
    "collapsed": false,
    "ExecuteTime": {
     "end_time": "2024-04-24T16:49:29.548755Z",
     "start_time": "2024-04-24T16:49:22.374131Z"
    }
   },
   "id": "20a9f7460ab01418"
  }
 ],
 "metadata": {
  "kernelspec": {
   "display_name": "Python 3",
   "language": "python",
   "name": "python3"
  },
  "language_info": {
   "codemirror_mode": {
    "name": "ipython",
    "version": 2
   },
   "file_extension": ".py",
   "mimetype": "text/x-python",
   "name": "python",
   "nbconvert_exporter": "python",
   "pygments_lexer": "ipython2",
   "version": "2.7.6"
  }
 },
 "nbformat": 4,
 "nbformat_minor": 5
}
