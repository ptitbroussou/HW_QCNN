{
 "cells": [
  {
   "cell_type": "code",
   "execution_count": 3,
   "id": "initial_id",
   "metadata": {
    "collapsed": true,
    "ExecuteTime": {
     "end_time": "2024-05-24T16:34:35.200475Z",
     "start_time": "2024-05-24T16:34:35.194634Z"
    }
   },
   "outputs": [],
   "source": [
    "\n",
    "import warnings\n",
    "import torch\n",
    "import torch.nn as nn\n",
    "from src import load_dataset as load\n",
    "from src.QCNN_layers.Conv_layer import Conv_RBS_density_I2_3D\n",
    "from src.QCNN_layers.Measurement_layer import map_HW_to_measure\n",
    "from src.QCNN_layers.Pooling_layer import Pooling_3D_density\n",
    "from src.training import train_globally\n",
    "from src.QCNN_layers.Dense_layer import Dense_RBS_density_3D, Basis_Change_I_to_HW_density_3D, Trace_out_dimension\n",
    "from src.list_gates import butterfly_bi_gates, butterfly_gates, X_gates, full_connection_gates, \\\n",
    "    full_reverse_connection_gates, slide_gates\n",
    "\n",
    "warnings.simplefilter('ignore')"
   ]
  },
  {
   "cell_type": "code",
   "execution_count": 5,
   "outputs": [],
   "source": [
    "\n",
    "# Below you can change to test\n",
    "I = 16  # dimension of image we use\n",
    "O = I // 2  # dimension after pooling, usually you don't need to change this\n",
    "J = 2  # number of channel\n",
    "k = 3  # preserving subspace parameter, usually you don't need to change this\n",
    "K = 2  # size of kernel\n",
    "stride = 2\n",
    "batch_size = 10  # batch number\n",
    "training_dataset = 10  # multiple that we reduce train dataset\n",
    "testing_dataset = 10  # multiple that we reduce test dataset\n",
    "is_shuffle = True\n",
    "learning_rate = 2e-3\n",
    "train_epochs = 2  # number of epoch we train\n",
    "test_interval = 2  # when the training epoch reaches an integer multiple of the test_interval, print the testing result\n",
    "criterion = torch.nn.CrossEntropyLoss()\n",
    "device = torch.device(\"mps\")  # also torch.device(\"cpu\"), or torch.device(\"mps\") for macbook\n",
    "\n",
    "# Here you can modify the RBS gate list that you want\n",
    "dense_full_gates = (full_connection_gates(O + J) + butterfly_bi_gates(O + J) + butterfly_gates(O + J) +\n",
    "                    full_connection_gates(O + J) + X_gates(O + J) + full_reverse_connection_gates(O + J)\n",
    "                    + slide_gates(O + J))\n",
    "dense_reduce_gates = (full_connection_gates(5) + butterfly_gates(5) + full_reverse_connection_gates(5) +\n",
    "                      X_gates(5) + full_connection_gates(5) + full_reverse_connection_gates(5))\n",
    "\n"
   ],
   "metadata": {
    "collapsed": false,
    "ExecuteTime": {
     "end_time": "2024-05-24T16:34:43.220728Z",
     "start_time": "2024-05-24T16:34:43.218333Z"
    }
   },
   "id": "5e6b9a96bbdabe28"
  },
  {
   "cell_type": "code",
   "execution_count": 6,
   "outputs": [
    {
     "name": "stdout",
     "output_type": "stream",
     "text": [
      "Epoch 0: Loss = 2.355913, accuracy = 10.0000 %, time=5.5497s\n",
      "Evaluation on test set: Loss = 2.256627, accuracy = 10.0000 %\n",
      "Epoch 1: Loss = 2.304792, accuracy = 10.0000 %, time=5.3425s\n",
      "Evaluation on test set: Loss = 2.234913, accuracy = 30.0000 %\n"
     ]
    }
   ],
   "source": [
    "class QCNN(nn.Module):\n",
    "    \"\"\"\n",
    "    Pyramid Quantum convolution neural network by using Jonas's method to predict labels.\n",
    "    \"\"\"\n",
    "\n",
    "    def __init__(self, I, O, J, K, k, dense_full_gates, dense_reduce_gates, device):\n",
    "        \"\"\" Args:\n",
    "            - I: dimension of image we use, default I is 28\n",
    "            - O: dimension of image we use after a single pooling\n",
    "            - J: number of convolution channels\n",
    "            - K: size of kernel\n",
    "            - k: preserving subspace parameter, it should be 3\n",
    "            - dense_full_gates: dense gate list, dimension from binom(O+J,3) to 10\n",
    "            - dense_reduce_gates: reduced dense gate list, dimension from 10 to 10\n",
    "            - device: torch device (cpu, cuda, etc...)\n",
    "        \"\"\"\n",
    "        super(QCNN, self).__init__()\n",
    "        self.conv1 = Conv_RBS_density_I2_3D(I, K, J, device)\n",
    "        self.pool1 = Pooling_3D_density(I, O, J, device)\n",
    "        self.conv2 = Conv_RBS_density_I2_3D(O, K, J, device)\n",
    "        self.pool2 = Pooling_3D_density(O, O // 2, J, device)\n",
    "        self.basis_map = Basis_Change_I_to_HW_density_3D(O // 2, J, k, device)\n",
    "        self.dense_full = Dense_RBS_density_3D(O // 2, J, k, dense_full_gates, device)\n",
    "        self.reduce_dim = Trace_out_dimension(10, device)\n",
    "        self.dense_reduced = Dense_RBS_density_3D(0, 5, k, dense_reduce_gates, device)\n",
    "\n",
    "    def forward(self, x):\n",
    "        x = self.pool1(self.conv1(x))  # first convolution and pooling\n",
    "        x = self.pool2(self.conv2(x))  # second convolution and pooling\n",
    "        x = self.basis_map(x)  # basis change from 3D Image to HW=3\n",
    "        x = self.dense_reduced(self.reduce_dim(self.dense_full(x)))  # dense layer\n",
    "        return map_HW_to_measure(x, device)  # measure, only keep the diagonal elements\n",
    "\n",
    "\n",
    "network = QCNN(I, O, J, K, k, dense_full_gates, dense_reduce_gates, device)\n",
    "optimizer = torch.optim.Adam(network.parameters(), lr=learning_rate)\n",
    "# Loading data\n",
    "train_loader, test_loader = load.load_MNIST(batch_size=batch_size, shuffle=is_shuffle)\n",
    "reduced_train_loader = load.reduce_MNIST_dataset(train_loader, training_dataset, is_train=True)\n",
    "reduced_test_loader = load.reduce_MNIST_dataset(test_loader, testing_dataset, is_train=False)\n",
    "\n",
    "# training part\n",
    "network_state = train_globally(batch_size, I, J, k, network, reduced_train_loader, reduced_test_loader, optimizer, criterion, train_epochs, test_interval, stride, device)"
   ],
   "metadata": {
    "collapsed": false,
    "ExecuteTime": {
     "end_time": "2024-05-24T16:35:14.272339Z",
     "start_time": "2024-05-24T16:34:58.382665Z"
    }
   },
   "id": "e0b62033b34e5d2c"
  },
  {
   "cell_type": "code",
   "execution_count": null,
   "outputs": [],
   "source": [
    "torch.save(network.state_dict(), \"model\")"
   ],
   "metadata": {
    "collapsed": false
   },
   "id": "aeaf177166a43c27"
  }
 ],
 "metadata": {
  "kernelspec": {
   "name": "env3.7",
   "language": "python",
   "display_name": "env3.7"
  },
  "language_info": {
   "codemirror_mode": {
    "name": "ipython",
    "version": 2
   },
   "file_extension": ".py",
   "mimetype": "text/x-python",
   "name": "python",
   "nbconvert_exporter": "python",
   "pygments_lexer": "ipython2",
   "version": "2.7.6"
  }
 },
 "nbformat": 4,
 "nbformat_minor": 5
}
