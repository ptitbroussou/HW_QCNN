{
 "cells": [
  {
   "cell_type": "code",
   "execution_count": 1,
   "id": "initial_id",
   "metadata": {
    "collapsed": true,
    "ExecuteTime": {
     "end_time": "2024-05-24T14:13:43.516888Z",
     "start_time": "2024-05-24T14:13:41.877878Z"
    }
   },
   "outputs": [],
   "source": [
    "from Pooling import Pooling_3D_density\n",
    "from Conv_Layer import Conv_RBS_density_I2_3D\n",
    "from load_dataset import load_MNIST, reduce_MNIST_dataset\n",
    "import torch\n",
    "import torch.nn as nn  # the neural network library of pytorch\n",
    "from training import test_net, train_net"
   ]
  },
  {
   "cell_type": "code",
   "execution_count": 2,
   "outputs": [],
   "source": [
    "class QCNN(nn.Module):\n",
    "    def __init__(self, I, O, J, K, device):\n",
    "        super(QCNN, self).__init__()\n",
    "        self.conv1 = Conv_RBS_density_I2_3D(I, K, J, device)\n",
    "        self.pool1 = Pooling_3D_density(I, O, J, device)\n",
    "        self.conv2 = Conv_RBS_density_I2_3D(O, K, J, device)\n",
    "        self.pool2 = Pooling_3D_density(O, O // 2, J, device)\n",
    "        self.fc = nn.Linear((O // 2) * (O // 2) * J, 10)\n",
    "\n",
    "    def forward(self, x):\n",
    "        c1 = self.conv1(x)\n",
    "        p1 = self.pool1(c1)\n",
    "        c2 = self.conv2(p1)\n",
    "        p2 = self.pool2(c2)\n",
    "        device_cpu = torch.device(\"cpu\")\n",
    "        d = torch.stack([torch.diag(p2[i]) for i in range(batch_size)]).to(device_cpu)\n",
    "        output = self.fc(d)\n",
    "        return output.to(device)  # return x for visualization\n"
   ],
   "metadata": {
    "collapsed": false,
    "ExecuteTime": {
     "end_time": "2024-05-24T14:13:43.522582Z",
     "start_time": "2024-05-24T14:13:43.517405Z"
    }
   },
   "id": "56d4674ae177d084"
  },
  {
   "cell_type": "code",
   "execution_count": 7,
   "outputs": [
    {
     "name": "stdout",
     "output_type": "stream",
     "text": [
      "Epoch 0: Loss = 2.299336, accuracy = 10.0000 %\n"
     ]
    }
   ],
   "source": [
    "\n",
    "\n",
    "I = 16  # dimension of image we use\n",
    "O = I // 2  # dimension after pooling\n",
    "J = 4  # number of channel\n",
    "K = 4  # size of kernel\n",
    "k = 3\n",
    "batch_size = 10  # batch number\n",
    "scala = 6000  # time we reduce dataset\n",
    "learning_rate = 1e-2\n",
    "device = torch.device(\"mps\")\n",
    "\n",
    "train_loader, test_loader = load_MNIST(batch_size=batch_size)\n",
    "reduced_loader = reduce_MNIST_dataset(train_loader, scala)\n",
    "reduced_test_loader = reduce_MNIST_dataset(test_loader, 1000)\n",
    "\n",
    "conv_network = QCNN(I, O, J, K, device)\n",
    "optimizer = torch.optim.Adam(conv_network.parameters(), lr=learning_rate)\n",
    "criterion = torch.nn.CrossEntropyLoss()\n",
    "\n",
    "loss_list = []\n",
    "accuracy_list = []\n",
    "for epoch in range(1):\n",
    "    train_loss, train_accuracy = train_net(batch_size, I, J, k, conv_network, train_loader, criterion, optimizer, device)\n",
    "    loss_list.append(train_loss)\n",
    "    accuracy_list.append(train_accuracy*100)\n",
    "    print(f'Epoch {epoch}: Loss = {train_loss:.6f}, accuracy = {train_accuracy*100:.4f} %')\n",
    "\n",
    "torch.save(conv_network.state_dict(), \"model\")"
   ],
   "metadata": {
    "collapsed": false,
    "ExecuteTime": {
     "end_time": "2024-05-24T14:15:16.145087Z",
     "start_time": "2024-05-24T14:14:55.550784Z"
    }
   },
   "id": "ac040c59dfd6001d"
  },
  {
   "cell_type": "code",
   "execution_count": 5,
   "outputs": [
    {
     "name": "stdout",
     "output_type": "stream",
     "text": [
      "Model's state_dict:\n",
      "conv1.Parameters.0 \t torch.Size([])\n",
      "conv1.Parameters.1 \t torch.Size([])\n",
      "conv1.Parameters.2 \t torch.Size([])\n",
      "conv1.Parameters.3 \t torch.Size([])\n",
      "conv1.Parameters.4 \t torch.Size([])\n",
      "conv1.Parameters.5 \t torch.Size([])\n",
      "conv1.Parameters.6 \t torch.Size([])\n",
      "conv1.Parameters.7 \t torch.Size([])\n",
      "conv1.Parameters.8 \t torch.Size([])\n",
      "conv1.Parameters.9 \t torch.Size([])\n",
      "conv1.Parameters.10 \t torch.Size([])\n",
      "conv1.Parameters.11 \t torch.Size([])\n",
      "conv1.Parameters.12 \t torch.Size([])\n",
      "conv1.Parameters.13 \t torch.Size([])\n",
      "conv1.Parameters.14 \t torch.Size([])\n",
      "conv1.Parameters.15 \t torch.Size([])\n",
      "conv1.Parameters.16 \t torch.Size([])\n",
      "conv1.Parameters.17 \t torch.Size([])\n",
      "conv1.RBS_gates.0.angle \t torch.Size([])\n",
      "conv1.RBS_gates.1.angle \t torch.Size([])\n",
      "conv1.RBS_gates.2.angle \t torch.Size([])\n",
      "conv1.RBS_gates.3.angle \t torch.Size([])\n",
      "conv1.RBS_gates.4.angle \t torch.Size([])\n",
      "conv1.RBS_gates.5.angle \t torch.Size([])\n",
      "conv1.RBS_gates.6.angle \t torch.Size([])\n",
      "conv1.RBS_gates.7.angle \t torch.Size([])\n",
      "conv1.RBS_gates.8.angle \t torch.Size([])\n",
      "conv1.RBS_gates.9.angle \t torch.Size([])\n",
      "conv1.RBS_gates.10.angle \t torch.Size([])\n",
      "conv1.RBS_gates.11.angle \t torch.Size([])\n",
      "conv1.RBS_gates.12.angle \t torch.Size([])\n",
      "conv1.RBS_gates.13.angle \t torch.Size([])\n",
      "conv1.RBS_gates.14.angle \t torch.Size([])\n",
      "conv1.RBS_gates.15.angle \t torch.Size([])\n",
      "conv1.RBS_gates.16.angle \t torch.Size([])\n",
      "conv1.RBS_gates.17.angle \t torch.Size([])\n",
      "conv1.RBS_gates.18.angle \t torch.Size([])\n",
      "conv1.RBS_gates.19.angle \t torch.Size([])\n",
      "conv1.RBS_gates.20.angle \t torch.Size([])\n",
      "conv1.RBS_gates.21.angle \t torch.Size([])\n",
      "conv1.RBS_gates.22.angle \t torch.Size([])\n",
      "conv1.RBS_gates.23.angle \t torch.Size([])\n",
      "conv1.RBS_gates.24.angle \t torch.Size([])\n",
      "conv1.RBS_gates.25.angle \t torch.Size([])\n",
      "conv1.RBS_gates.26.angle \t torch.Size([])\n",
      "conv1.RBS_gates.27.angle \t torch.Size([])\n",
      "conv1.RBS_gates.28.angle \t torch.Size([])\n",
      "conv1.RBS_gates.29.angle \t torch.Size([])\n",
      "conv1.RBS_gates.30.angle \t torch.Size([])\n",
      "conv1.RBS_gates.31.angle \t torch.Size([])\n",
      "conv1.RBS_gates.32.angle \t torch.Size([])\n",
      "conv1.RBS_gates.33.angle \t torch.Size([])\n",
      "conv1.RBS_gates.34.angle \t torch.Size([])\n",
      "conv1.RBS_gates.35.angle \t torch.Size([])\n",
      "conv1.RBS_gates.36.angle \t torch.Size([])\n",
      "conv1.RBS_gates.37.angle \t torch.Size([])\n",
      "conv1.RBS_gates.38.angle \t torch.Size([])\n",
      "conv1.RBS_gates.39.angle \t torch.Size([])\n",
      "conv1.RBS_gates.40.angle \t torch.Size([])\n",
      "conv1.RBS_gates.41.angle \t torch.Size([])\n",
      "conv1.RBS_gates.42.angle \t torch.Size([])\n",
      "conv1.RBS_gates.43.angle \t torch.Size([])\n",
      "conv1.RBS_gates.44.angle \t torch.Size([])\n",
      "conv1.RBS_gates.45.angle \t torch.Size([])\n",
      "conv1.RBS_gates.46.angle \t torch.Size([])\n",
      "conv1.RBS_gates.47.angle \t torch.Size([])\n",
      "conv1.RBS_gates.48.angle \t torch.Size([])\n",
      "conv1.RBS_gates.49.angle \t torch.Size([])\n",
      "conv1.RBS_gates.50.angle \t torch.Size([])\n",
      "conv1.RBS_gates.51.angle \t torch.Size([])\n",
      "conv1.RBS_gates.52.angle \t torch.Size([])\n",
      "conv1.RBS_gates.53.angle \t torch.Size([])\n",
      "conv2.Parameters.0 \t torch.Size([])\n",
      "conv2.Parameters.1 \t torch.Size([])\n",
      "conv2.Parameters.2 \t torch.Size([])\n",
      "conv2.Parameters.3 \t torch.Size([])\n",
      "conv2.Parameters.4 \t torch.Size([])\n",
      "conv2.Parameters.5 \t torch.Size([])\n",
      "conv2.Parameters.6 \t torch.Size([])\n",
      "conv2.Parameters.7 \t torch.Size([])\n",
      "conv2.Parameters.8 \t torch.Size([])\n",
      "conv2.Parameters.9 \t torch.Size([])\n",
      "conv2.Parameters.10 \t torch.Size([])\n",
      "conv2.Parameters.11 \t torch.Size([])\n",
      "conv2.Parameters.12 \t torch.Size([])\n",
      "conv2.Parameters.13 \t torch.Size([])\n",
      "conv2.Parameters.14 \t torch.Size([])\n",
      "conv2.Parameters.15 \t torch.Size([])\n",
      "conv2.Parameters.16 \t torch.Size([])\n",
      "conv2.Parameters.17 \t torch.Size([])\n",
      "conv2.RBS_gates.0.angle \t torch.Size([])\n",
      "conv2.RBS_gates.1.angle \t torch.Size([])\n",
      "conv2.RBS_gates.2.angle \t torch.Size([])\n",
      "conv2.RBS_gates.3.angle \t torch.Size([])\n",
      "conv2.RBS_gates.4.angle \t torch.Size([])\n",
      "conv2.RBS_gates.5.angle \t torch.Size([])\n",
      "conv2.RBS_gates.6.angle \t torch.Size([])\n",
      "conv2.RBS_gates.7.angle \t torch.Size([])\n",
      "conv2.RBS_gates.8.angle \t torch.Size([])\n",
      "conv2.RBS_gates.9.angle \t torch.Size([])\n",
      "conv2.RBS_gates.10.angle \t torch.Size([])\n",
      "conv2.RBS_gates.11.angle \t torch.Size([])\n",
      "conv2.RBS_gates.12.angle \t torch.Size([])\n",
      "conv2.RBS_gates.13.angle \t torch.Size([])\n",
      "conv2.RBS_gates.14.angle \t torch.Size([])\n",
      "conv2.RBS_gates.15.angle \t torch.Size([])\n",
      "conv2.RBS_gates.16.angle \t torch.Size([])\n",
      "conv2.RBS_gates.17.angle \t torch.Size([])\n",
      "conv2.RBS_gates.18.angle \t torch.Size([])\n",
      "conv2.RBS_gates.19.angle \t torch.Size([])\n",
      "conv2.RBS_gates.20.angle \t torch.Size([])\n",
      "conv2.RBS_gates.21.angle \t torch.Size([])\n",
      "conv2.RBS_gates.22.angle \t torch.Size([])\n",
      "conv2.RBS_gates.23.angle \t torch.Size([])\n",
      "conv2.RBS_gates.24.angle \t torch.Size([])\n",
      "conv2.RBS_gates.25.angle \t torch.Size([])\n",
      "conv2.RBS_gates.26.angle \t torch.Size([])\n",
      "conv2.RBS_gates.27.angle \t torch.Size([])\n",
      "conv2.RBS_gates.28.angle \t torch.Size([])\n",
      "conv2.RBS_gates.29.angle \t torch.Size([])\n",
      "fc.weight \t torch.Size([10, 64])\n",
      "fc.bias \t torch.Size([10])\n"
     ]
    }
   ],
   "source": [
    "conv_network = QCNN(I, O, J, K, device)\n",
    "conv_network.load_state_dict(torch.load(\"model\"))\n",
    "# conv_network.eval()\n",
    "print(\"Model's state_dict:\")\n",
    "for param_tensor in conv_network.state_dict():\n",
    "    print(param_tensor, \"\\t\", conv_network.state_dict()[param_tensor].size())"
   ],
   "metadata": {
    "collapsed": false,
    "ExecuteTime": {
     "end_time": "2024-05-24T14:14:04.464070Z",
     "start_time": "2024-05-24T14:14:03.384531Z"
    }
   },
   "id": "99f4d0aabca00183"
  },
  {
   "cell_type": "code",
   "execution_count": 8,
   "outputs": [
    {
     "name": "stdout",
     "output_type": "stream",
     "text": [
      "Evaluation on test set: Loss = 2.294756, accuracy = 0.0000 %\n"
     ]
    }
   ],
   "source": [
    "test_loss, test_accuracy = test_net(batch_size, I, J, k, conv_network, reduced_test_loader, criterion, device)\n",
    "print(f'Evaluation on test set: Loss = {test_loss:.6f}, accuracy = {test_accuracy*100:.4f} %')"
   ],
   "metadata": {
    "collapsed": false,
    "ExecuteTime": {
     "end_time": "2024-05-24T14:15:35.188834Z",
     "start_time": "2024-05-24T14:15:22.558213Z"
    }
   },
   "id": "b522e32702b512d2"
  },
  {
   "cell_type": "code",
   "execution_count": 9,
   "outputs": [
    {
     "name": "stdout",
     "output_type": "stream",
     "text": [
      "Number of parameters: 686\n"
     ]
    }
   ],
   "source": [
    "total_params = sum(p.numel() for p in conv_network.parameters())\n",
    "print(f\"Number of parameters: {total_params}\")"
   ],
   "metadata": {
    "collapsed": false,
    "ExecuteTime": {
     "end_time": "2024-05-24T14:15:37.704889Z",
     "start_time": "2024-05-24T14:15:37.702652Z"
    }
   },
   "id": "a624fe80f58caf33"
  }
 ],
 "metadata": {
  "kernelspec": {
   "display_name": "Python 3",
   "language": "python",
   "name": "python3"
  },
  "language_info": {
   "codemirror_mode": {
    "name": "ipython",
    "version": 2
   },
   "file_extension": ".py",
   "mimetype": "text/x-python",
   "name": "python",
   "nbconvert_exporter": "python",
   "pygments_lexer": "ipython2",
   "version": "2.7.6"
  }
 },
 "nbformat": 4,
 "nbformat_minor": 5
}
