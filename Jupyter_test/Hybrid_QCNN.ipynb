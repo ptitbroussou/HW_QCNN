{
 "cells": [
  {
   "cell_type": "code",
   "execution_count": 15,
   "id": "initial_id",
   "metadata": {
    "collapsed": true,
    "ExecuteTime": {
     "end_time": "2024-05-24T16:36:38.977665Z",
     "start_time": "2024-05-24T16:36:38.944096Z"
    }
   },
   "outputs": [],
   "source": [
    "import warnings\n",
    "warnings.simplefilter('ignore')\n",
    "from src.QCNN_layers.Pooling_layer import Pooling_3D_density\n",
    "from src.QCNN_layers.Conv_layer import Conv_RBS_density_I2_3D\n",
    "import torch\n",
    "import torch.nn as nn  # the neural network library of pytorch\n",
    "from src import load_dataset as load\n",
    "from src.training import test_net, train_net"
   ]
  },
  {
   "cell_type": "code",
   "execution_count": 16,
   "outputs": [],
   "source": [
    "class QCNN(nn.Module):\n",
    "    def __init__(self, I, O, J, K, device):\n",
    "        super(QCNN, self).__init__()\n",
    "        self.conv1 = Conv_RBS_density_I2_3D(I, K, J, device)\n",
    "        self.pool1 = Pooling_3D_density(I, O, J, device)\n",
    "        self.conv2 = Conv_RBS_density_I2_3D(O, K, J, device)\n",
    "        self.pool2 = Pooling_3D_density(O, O // 2, J, device)\n",
    "        self.fc = nn.Linear((O // 2) * (O // 2) * J, 10)\n",
    "\n",
    "    def forward(self, x):\n",
    "        c1 = self.conv1(x)\n",
    "        p1 = self.pool1(c1)\n",
    "        c2 = self.conv2(p1)\n",
    "        p2 = self.pool2(c2)\n",
    "        device_cpu = torch.device(\"cpu\")\n",
    "        d = torch.stack([torch.diag(p2[i]) for i in range(batch_size)]).to(device_cpu)\n",
    "        output = self.fc(d)\n",
    "        return output.to(device)  # return x for visualization\n",
    "\n",
    "\n",
    "# Below you can change to test\n",
    "I = 16  # dimension of image we use\n",
    "O = I // 2  # dimension after pooling, usually you don't need to change this\n",
    "J = 2  # number of channel\n",
    "k = 3  # preserving subspace parameter, usually you don't need to change this\n",
    "K = 2  # size of kernel\n",
    "stride = 2\n",
    "batch_size = 10  # batch number\n",
    "training_dataset = 10  # multiple that we reduce train dataset\n",
    "testing_dataset = 10  # multiple that we reduce test dataset\n",
    "is_shuffle = True\n",
    "learning_rate = 2e-3\n",
    "train_epochs = 2  # number of epoch we train\n",
    "test_interval = 2  # when the training epoch reaches an integer multiple of the test_interval, print the testing result\n",
    "criterion = torch.nn.CrossEntropyLoss()\n",
    "device = torch.device(\"mps\")  # also torch.device(\"cpu\"), or torch.device(\"mps\") for macbook\n",
    "\n",
    "train_loader, test_loader = load.load_MNIST(batch_size=batch_size, shuffle=True)\n",
    "reduced_loader = load.reduce_MNIST_dataset(train_loader, training_dataset, True)\n",
    "reduced_test_loader = load.reduce_MNIST_dataset(test_loader, testing_dataset, False)\n",
    "network = QCNN(I, O, J, K, device)\n",
    "optimizer = torch.optim.Adam(network.parameters(), lr=learning_rate)"
   ],
   "metadata": {
    "collapsed": false,
    "ExecuteTime": {
     "end_time": "2024-05-24T16:36:42.550622Z",
     "start_time": "2024-05-24T16:36:41.942276Z"
    }
   },
   "id": "56d4674ae177d084"
  },
  {
   "cell_type": "code",
   "execution_count": 14,
   "outputs": [
    {
     "name": "stdout",
     "output_type": "stream",
     "text": [
      "Epoch 0: Loss = 2.303373, accuracy = 10.0000 %\n",
      "Epoch 1: Loss = 2.299494, accuracy = 0.0000 %\n",
      "Epoch 2: Loss = 2.295637, accuracy = 0.0000 %\n",
      "Evaluation on test set: Loss = 2.297179, accuracy = 10.0000 %\n"
     ]
    }
   ],
   "source": [
    "loss_list = []\n",
    "accuracy_list = []\n",
    "for epoch in range(3):\n",
    "    train_loss, train_accuracy = train_net(batch_size, I, J, k, network, train_loader, criterion, optimizer,\n",
    "                                           device)\n",
    "    loss_list.append(train_loss)\n",
    "    accuracy_list.append(train_accuracy * 100)\n",
    "    print(f'Epoch {epoch}: Loss = {train_loss:.6f}, accuracy = {train_accuracy * 100:.4f} %')\n",
    "\n",
    "test_loss, test_accuracy = test_net(batch_size, I, J, k, network, reduced_test_loader, criterion, device)\n",
    "print(f'Evaluation on test set: Loss = {test_loss:.6f}, accuracy = {test_accuracy * 100:.4f} %')"
   ],
   "metadata": {
    "collapsed": false,
    "ExecuteTime": {
     "end_time": "2024-05-24T16:36:38.932398Z",
     "start_time": "2024-05-24T16:36:21.998405Z"
    }
   },
   "id": "ac040c59dfd6001d"
  },
  {
   "cell_type": "code",
   "execution_count": 17,
   "outputs": [
    {
     "name": "stdout",
     "output_type": "stream",
     "text": [
      "Number of parameters: 336\n"
     ]
    }
   ],
   "source": [
    "total_params = sum(p.numel() for p in network.parameters())\n",
    "print(f\"Number of parameters: {total_params}\")"
   ],
   "metadata": {
    "collapsed": false,
    "ExecuteTime": {
     "end_time": "2024-05-24T16:36:44.524715Z",
     "start_time": "2024-05-24T16:36:44.521042Z"
    }
   },
   "id": "a624fe80f58caf33"
  }
 ],
 "metadata": {
  "kernelspec": {
   "display_name": "Python 3",
   "language": "python",
   "name": "python3"
  },
  "language_info": {
   "codemirror_mode": {
    "name": "ipython",
    "version": 2
   },
   "file_extension": ".py",
   "mimetype": "text/x-python",
   "name": "python",
   "nbconvert_exporter": "python",
   "pygments_lexer": "ipython2",
   "version": "2.7.6"
  }
 },
 "nbformat": 4,
 "nbformat_minor": 5
}
