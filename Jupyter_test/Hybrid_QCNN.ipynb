{
 "cells": [
  {
   "cell_type": "code",
   "execution_count": 12,
   "id": "initial_id",
   "metadata": {
    "collapsed": true,
    "ExecuteTime": {
     "end_time": "2024-04-24T16:53:45.585489Z",
     "start_time": "2024-04-24T16:53:45.579930Z"
    }
   },
   "outputs": [],
   "source": [
    "from Pooling import Pooling_2D_density_3D\n",
    "from Conv_Layer import Conv_RBS_density_I2_3D\n",
    "import torch\n",
    "import torch.nn as nn  # the neural network library of pytorch\n",
    "import load_dataset_letao as load  # module with function to load MNIST\n",
    "from toolbox import reduce_MNIST_dataset\n",
    "from training import test_net, train_net"
   ]
  },
  {
   "cell_type": "code",
   "execution_count": 13,
   "outputs": [],
   "source": [
    "class QCNN(nn.Module):\n",
    "    def __init__(self, I, O, J, K, device):\n",
    "        super(QCNN, self).__init__()\n",
    "        self.conv1 = Conv_RBS_density_I2_3D(I,K,J,device)\n",
    "        self.pool1 = Pooling_2D_density_3D(I, O, J, device)\n",
    "        self.conv2 = Conv_RBS_density_I2_3D(O,K,J,device)\n",
    "        self.pool2 = Pooling_2D_density_3D(O, O//2, J, device)\n",
    "        self.fc = nn.Linear((O//2)*(O//2)*J, 10)\n",
    "\n",
    "    def forward(self, x):\n",
    "        c1 = self.conv1(x)\n",
    "        p1 = self.pool1(c1)\n",
    "        c2 = self.conv2(p1)\n",
    "        p2 = self.pool2(c2)\n",
    "        device_cpu = torch.device(\"cpu\")\n",
    "        d = torch.stack([torch.diag(p2[i]) for i in range(batch_size)]).to(device_cpu)\n",
    "        output = self.fc(d)\n",
    "        return output.to(device)    # return x for visualization"
   ],
   "metadata": {
    "collapsed": false,
    "ExecuteTime": {
     "end_time": "2024-04-24T16:53:46.580878Z",
     "start_time": "2024-04-24T16:53:46.574856Z"
    }
   },
   "id": "56d4674ae177d084"
  },
  {
   "cell_type": "code",
   "execution_count": 18,
   "outputs": [
    {
     "name": "stdout",
     "output_type": "stream",
     "text": [
      "Epoch 0: Loss = 2.291581, accuracy = 0.0000 %\n",
      "Epoch 1: Loss = 2.269141, accuracy = 0.0000 %\n",
      "Epoch 2: Loss = 2.247290, accuracy = 10.0000 %\n",
      "Epoch 3: Loss = 2.226036, accuracy = 20.0000 %\n",
      "Epoch 4: Loss = 2.205383, accuracy = 30.0000 %\n",
      "Epoch 5: Loss = 2.185327, accuracy = 40.0000 %\n",
      "Epoch 6: Loss = 2.165860, accuracy = 30.0000 %\n",
      "Epoch 7: Loss = 2.146968, accuracy = 30.0000 %\n",
      "Epoch 8: Loss = 2.128629, accuracy = 30.0000 %\n",
      "Epoch 9: Loss = 2.110826, accuracy = 30.0000 %\n"
     ]
    }
   ],
   "source": [
    "I = 12 # dimension of image we use\n",
    "O = I//2 # dimension after pooling\n",
    "J = 2 # number of channel\n",
    "K = 2 # size of kernel\n",
    "k = 3\n",
    "batch_size = 10 # batch number\n",
    "scala = 6000 # time we reduce dataset\n",
    "learning_rate = 1e-2\n",
    "device = torch.device(\"mps\")\n",
    "\n",
    "train_loader, test_loader, dim_in, dim_out = load.load_MNIST(batch_size=batch_size)\n",
    "reduced_loader = reduce_MNIST_dataset(train_loader, scala)\n",
    "reduced_test_loader = reduce_MNIST_dataset(test_loader, 100)\n",
    "\n",
    "conv_network = QCNN(I, O, J, K, device)\n",
    "optimizer = torch.optim.Adam(conv_network.parameters(), lr=learning_rate)\n",
    "criterion = torch.nn.CrossEntropyLoss()\n",
    "\n",
    "loss_list = []\n",
    "accuracy_list = []\n",
    "for epoch in range(10):\n",
    "    train_loss, train_accuracy = train_net(batch_size, I, J, k, conv_network, train_loader, criterion, optimizer, device)\n",
    "    loss_list.append(train_loss)\n",
    "    accuracy_list.append(train_accuracy*100)\n",
    "    print(f'Epoch {epoch}: Loss = {train_loss:.6f}, accuracy = {train_accuracy*100:.4f} %')"
   ],
   "metadata": {
    "collapsed": false,
    "ExecuteTime": {
     "end_time": "2024-04-24T16:54:44.801105Z",
     "start_time": "2024-04-24T16:54:30.823167Z"
    }
   },
   "id": "ac040c59dfd6001d"
  },
  {
   "cell_type": "code",
   "execution_count": 19,
   "outputs": [
    {
     "name": "stdout",
     "output_type": "stream",
     "text": [
      "Evaluation on test set: Loss = 2.313761, accuracy = 14.0000 %\n"
     ]
    }
   ],
   "source": [
    "test_loss, test_accuracy = test_net(batch_size, I, J, k, conv_network, reduced_test_loader, criterion, device)\n",
    "print(f'Evaluation on test set: Loss = {test_loss:.6f}, accuracy = {test_accuracy*100:.4f} %')"
   ],
   "metadata": {
    "collapsed": false,
    "ExecuteTime": {
     "end_time": "2024-04-24T16:54:53.052487Z",
     "start_time": "2024-04-24T16:54:46.359701Z"
    }
   },
   "id": "b522e32702b512d2"
  },
  {
   "cell_type": "code",
   "execution_count": 20,
   "outputs": [
    {
     "name": "stdout",
     "output_type": "stream",
     "text": [
      "Number of parameters: 196\n"
     ]
    }
   ],
   "source": [
    "total_params = sum(p.numel() for p in conv_network.parameters())\n",
    "print(f\"Number of parameters: {total_params}\")"
   ],
   "metadata": {
    "collapsed": false,
    "ExecuteTime": {
     "end_time": "2024-04-24T16:55:17.618216Z",
     "start_time": "2024-04-24T16:55:17.612727Z"
    }
   },
   "id": "a624fe80f58caf33"
  }
 ],
 "metadata": {
  "kernelspec": {
   "display_name": "Python 3",
   "language": "python",
   "name": "python3"
  },
  "language_info": {
   "codemirror_mode": {
    "name": "ipython",
    "version": 2
   },
   "file_extension": ".py",
   "mimetype": "text/x-python",
   "name": "python",
   "nbconvert_exporter": "python",
   "pygments_lexer": "ipython2",
   "version": "2.7.6"
  }
 },
 "nbformat": 4,
 "nbformat_minor": 5
}
