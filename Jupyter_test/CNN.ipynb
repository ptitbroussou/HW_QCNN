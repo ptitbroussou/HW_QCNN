{
 "cells": [
  {
   "cell_type": "code",
   "execution_count": 1,
   "metadata": {
    "ExecuteTime": {
     "end_time": "2024-04-24T16:55:53.300590Z",
     "start_time": "2024-04-24T16:55:51.385776Z"
    }
   },
   "outputs": [],
   "source": [
    "import torch\n",
    "import torch.nn as nn  # the neural network library of pytorch\n",
    "import load_dataset_letao as load  # module with function to load MNIST\n",
    "from toolbox import reduce_MNIST_dataset\n",
    "\n",
    "class CNN(nn.Module):\n",
    "    def __init__(self):\n",
    "        super(CNN, self).__init__()\n",
    "\n",
    "        # first convolutionnal layer\n",
    "        self.conv1 = nn.Conv2d(\n",
    "            in_channels=1,\n",
    "            out_channels=2,\n",
    "            kernel_size=2,\n",
    "            padding=2\n",
    "        )\n",
    "\n",
    "        # first pooling layer\n",
    "        self.pool1 = nn.MaxPool2d(kernel_size = 2, stride=2)\n",
    "\n",
    "        # second convolutionnal layer\n",
    "        self.conv2 = nn.Conv2d(\n",
    "            in_channels=2,\n",
    "            out_channels=2,\n",
    "            kernel_size=2,\n",
    "            padding=2\n",
    "        )\n",
    "\n",
    "        #second pooling layer\n",
    "        self.pool2 = nn.MaxPool2d(kernel_size = 2, stride=2)\n",
    "\n",
    "        # Flatten\n",
    "        self.flat = nn.Flatten()\n",
    "\n",
    "        # fully connected layer, output 10 classes\n",
    "        self.fc = nn.Linear(162, 10)\n",
    "\n",
    "    def forward(self, x):\n",
    "        x = self.conv1(x)\n",
    "        x = self.pool1(x)\n",
    "        # x = F.relu(x)\n",
    "        x = self.conv2(x)\n",
    "        x = self.pool2(x)\n",
    "        # x = F.relu(x)\n",
    "        x = self.flat(x)\n",
    "        output = self.fc(x)\n",
    "        return output    # return x for visualization"
   ]
  },
  {
   "cell_type": "code",
   "execution_count": 2,
   "metadata": {
    "ExecuteTime": {
     "end_time": "2024-04-24T16:55:55.916787Z",
     "start_time": "2024-04-24T16:55:55.721677Z"
    }
   },
   "outputs": [
    {
     "name": "stdout",
     "output_type": "stream",
     "text": [
      "Epoch 0: Loss = 2.286277, accuracy = 20.0000 %\n",
      "Epoch 1: Loss = 1.836543, accuracy = 45.0000 %\n",
      "Epoch 2: Loss = 1.312306, accuracy = 76.6667 %\n",
      "Epoch 3: Loss = 0.739720, accuracy = 78.3333 %\n",
      "Epoch 4: Loss = 0.354453, accuracy = 88.3333 %\n",
      "Epoch 5: Loss = 0.149267, accuracy = 98.3333 %\n",
      "Epoch 6: Loss = 0.056793, accuracy = 100.0000 %\n",
      "Epoch 7: Loss = 0.024780, accuracy = 100.0000 %\n",
      "Epoch 8: Loss = 0.012454, accuracy = 100.0000 %\n",
      "Epoch 9: Loss = 0.007552, accuracy = 100.0000 %\n"
     ]
    }
   ],
   "source": [
    "batch_size = 10  # the number of examples per batch\n",
    "train_loader, test_loader, dim_in, dim_out = load.load_MNIST(batch_size=batch_size)\n",
    "scala = 1000\n",
    "reduced_loader = reduce_MNIST_dataset(train_loader, scala)\n",
    "\n",
    "conv_network = CNN()\n",
    "learning_rate = 1e-2  # the scale of the changes applied to the weights\n",
    "optimizer = torch.optim.Adam(conv_network.parameters(), lr=learning_rate)\n",
    "criterion = torch.nn.CrossEntropyLoss()\n",
    "# test_loss, test_accuracy = eval_net(conv_network, test_loader, criterion)\n",
    "# print(f'Evaluation on test set: Loss = {test_loss:.6f}, accuracy = {test_accuracy*100:.4f} %')\n",
    "\n",
    "loss_list = []\n",
    "accuracy_list = []\n",
    "\n",
    "def train_net(network, train_loader, criterion, optimizer):\n",
    "    network.train()  # put in train mode: we will modify the weights of the network\n",
    "    train_loss = 0  # initialize the loss\n",
    "    train_accuracy = 0  # initialize the accuracy\n",
    "\n",
    "    # loop on the batches in the train dataset\n",
    "    for batch_idx, (data, target) in enumerate(train_loader):\n",
    "        optimizer.zero_grad()  # important step to reset gradients to zero\n",
    "\n",
    "        # Run the network and compute the loss\n",
    "        output = network(data)  # we run the network on the data\n",
    "        loss = criterion(output,\n",
    "                         target)  # we compare output to the target and compute the loss, using the chosen loss function\n",
    "        train_loss += loss.item()  # we increment the total train loss\n",
    "\n",
    "        # !!!Here we do the learning!!!\n",
    "        loss.backward()  # backpropagation: the gradients are automatically computed by the autograd\n",
    "        optimizer.step()  # specific optimization rule for changing the weights (stochastic gradient descent, Adam etc)\n",
    "        # and change weighs\n",
    "\n",
    "        # Getting the prediction of the network and computing the accuracy\n",
    "        pred = output.argmax(dim=1, keepdim=True)  # the class chosen by the network is the highest output\n",
    "        acc = pred.eq(target.view_as(pred)).sum().item()  # the accuracy is the proportion of correct classes\n",
    "        train_accuracy += acc  # increment accuracy of whole test set\n",
    "\n",
    "    train_accuracy /= len(train_loader.dataset)  # compute mean accuracy\n",
    "    train_loss /= (batch_idx + 1)  # mean loss\n",
    "    return train_loss, train_accuracy\n",
    "\n",
    "for epoch in range(10):\n",
    "    train_loss, train_accuracy = train_net(conv_network, train_loader, criterion, optimizer)\n",
    "    loss_list.append(train_loss)\n",
    "    accuracy_list.append(train_accuracy*100)\n",
    "    \n",
    "    print(f'Epoch {epoch}: Loss = {train_loss:.6f}, accuracy = {train_accuracy*100:.4f} %')"
   ]
  },
  {
   "cell_type": "code",
   "execution_count": 3,
   "outputs": [
    {
     "name": "stdout",
     "output_type": "stream",
     "text": [
      "Number of parameters: 1658\n"
     ]
    }
   ],
   "source": [
    "total_params = sum(p.numel() for p in conv_network.parameters())\n",
    "print(f\"Number of parameters: {total_params}\")"
   ],
   "metadata": {
    "collapsed": false,
    "ExecuteTime": {
     "end_time": "2024-04-24T16:55:58.631888Z",
     "start_time": "2024-04-24T16:55:58.626367Z"
    }
   }
  },
  {
   "cell_type": "code",
   "execution_count": 4,
   "metadata": {
    "ExecuteTime": {
     "end_time": "2024-04-24T16:56:31.071092Z",
     "start_time": "2024-04-24T16:56:30.009682Z"
    }
   },
   "outputs": [
    {
     "name": "stdout",
     "output_type": "stream",
     "text": [
      "Evaluation on test set: Loss = 1.833610, accuracy = 69.3400 %\n"
     ]
    }
   ],
   "source": [
    "def eval_net(network, test_loader, criterion):\n",
    "    network.eval()  # put in eval mode: we will just run, not modify the network\n",
    "    test_loss = 0  # initialize the loss\n",
    "    test_accuracy = 0  # initialize the accuracy\n",
    "\n",
    "    with torch.no_grad():  # careful, we do not care about gradients here\n",
    "        # loop on the batches in the test dataset\n",
    "        for batch_idx, (data, target) in enumerate(test_loader):\n",
    "            # Run the network and compute the loss\n",
    "            output = network(data)  # run the network on the test data\n",
    "            loss = criterion(output,\n",
    "                             target)  # compare the output to the target and compute the loss, using the chosen loss function\n",
    "            test_loss += loss.item()  # increment the total test loss\n",
    "\n",
    "            # Getting the prediction of the network and computing the accuracy\n",
    "            pred = output.argmax(dim=1, keepdim=True)  # the class chosen by the network is the highest output\n",
    "            acc = pred.eq(target.view_as(pred)).sum().item()  # the accuracy is the proportion of correct classes\n",
    "            test_accuracy += acc  # increment accuracy of whole test set\n",
    "\n",
    "    test_accuracy /= len(test_loader.dataset)  # compute mean accuracy\n",
    "    test_loss /= (batch_idx + 1)  # mean loss\n",
    "    return test_loss, test_accuracy\n",
    "\n",
    "test_loss, test_accuracy = eval_net(conv_network, test_loader, criterion)\n",
    "print(f'Evaluation on test set: Loss = {test_loss:.6f}, accuracy = {test_accuracy*100:.4f} %')"
   ]
  }
 ],
 "metadata": {
  "kernelspec": {
   "display_name": "Python 3 (ipykernel)",
   "language": "python",
   "name": "python3"
  },
  "language_info": {
   "codemirror_mode": {
    "name": "ipython",
    "version": 3
   },
   "file_extension": ".py",
   "mimetype": "text/x-python",
   "name": "python",
   "nbconvert_exporter": "python",
   "pygments_lexer": "ipython3",
   "version": "3.10.9"
  }
 },
 "nbformat": 4,
 "nbformat_minor": 4
}
