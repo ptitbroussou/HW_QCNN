{
 "cells": [
  {
   "cell_type": "code",
   "execution_count": 1,
   "metadata": {
    "ExecuteTime": {
     "end_time": "2024-05-24T14:12:39.284916Z",
     "start_time": "2024-05-24T14:12:36.985550Z"
    }
   },
   "outputs": [],
   "source": [
    "import torch\n",
    "import torch.nn as nn  # the neural network library of pytorch\n",
    "from load_dataset import load_MNIST, reduce_MNIST_dataset\n",
    "from torch.nn import AdaptiveAvgPool2d\n",
    "\n",
    "class CNN(nn.Module):\n",
    "    def __init__(self):\n",
    "        super(CNN, self).__init__()\n",
    "\n",
    "        # first convolutionnal layer\n",
    "        self.conv1 = nn.Conv2d(\n",
    "            in_channels=1,\n",
    "            out_channels=4,\n",
    "            kernel_size=4,\n",
    "            stride=2,\n",
    "            padding=3\n",
    "        )\n",
    "\n",
    "        # first pooling layer\n",
    "        self.pool1 = nn.MaxPool2d(kernel_size = 2, stride=2)\n",
    "\n",
    "        # second convolutionnal layer\n",
    "        self.conv2 = nn.Conv2d(\n",
    "            in_channels=4,\n",
    "            out_channels=4,\n",
    "            kernel_size=4,\n",
    "            stride=2,\n",
    "            padding=3\n",
    "        )\n",
    "\n",
    "        #second pooling layer\n",
    "        self.pool2 = nn.MaxPool2d(kernel_size = 2, stride=2)\n",
    "\n",
    "        # Flatten\n",
    "        self.flat = nn.Flatten()\n",
    "\n",
    "        # fully connected layer, output 10 classes\n",
    "        self.fc = nn.Linear(16, 10)\n",
    "\n",
    "    def forward(self, x):\n",
    "        x = self.conv1(x)\n",
    "        x = self.pool1(x)\n",
    "        # x = F.relu(x)\n",
    "        x = self.conv2(x)\n",
    "        x = self.pool2(x)\n",
    "        # x = F.relu(x)\n",
    "        x = self.flat(x)\n",
    "        output = self.fc(x)\n",
    "        return output    # return x for visualization"
   ]
  },
  {
   "cell_type": "code",
   "execution_count": 5,
   "metadata": {
    "ExecuteTime": {
     "end_time": "2024-05-24T14:13:09.306584Z",
     "start_time": "2024-05-24T14:13:06.684278Z"
    }
   },
   "outputs": [
    {
     "name": "stdout",
     "output_type": "stream",
     "text": [
      "Epoch 0: Loss = 1.908315, accuracy = 31.3000 %\n",
      "Epoch 1: Loss = 1.015189, accuracy = 66.2000 %\n",
      "Epoch 2: Loss = 0.702265, accuracy = 78.2000 %\n",
      "Epoch 3: Loss = 0.620638, accuracy = 80.1000 %\n",
      "Epoch 4: Loss = 0.518471, accuracy = 83.8000 %\n",
      "Epoch 5: Loss = 0.445572, accuracy = 86.1000 %\n",
      "Epoch 6: Loss = 0.447635, accuracy = 86.1000 %\n",
      "Epoch 7: Loss = 0.385859, accuracy = 87.7000 %\n",
      "Epoch 8: Loss = 0.363162, accuracy = 89.7000 %\n",
      "Epoch 9: Loss = 0.355748, accuracy = 88.8000 %\n"
     ]
    }
   ],
   "source": [
    "batch_size = 10  # the number of examples per batch\n",
    "train_loader, test_loader = load_MNIST(batch_size=batch_size)\n",
    "scala = 60\n",
    "reduced_loader = reduce_MNIST_dataset(train_loader, scala)\n",
    "I = 16\n",
    "device = torch.device(\"cpu\")\n",
    "\n",
    "conv_network = CNN()\n",
    "learning_rate = 1e-2  # the scale of the changes applied to the weights\n",
    "optimizer = torch.optim.Adam(conv_network.parameters(), lr=learning_rate)\n",
    "criterion = torch.nn.CrossEntropyLoss()\n",
    "# test_loss, test_accuracy = eval_net(conv_network, test_loader, criterion)\n",
    "# print(f'Evaluation on test set: Loss = {test_loss:.6f}, accuracy = {test_accuracy*100:.4f} %')\n",
    "\n",
    "loss_list = []\n",
    "accuracy_list = []\n",
    "\n",
    "def train_net(network, train_loader, criterion, optimizer):\n",
    "    network.train()  # put in train mode: we will modify the weights of the network\n",
    "    train_loss = 0  # initialize the loss\n",
    "    train_accuracy = 0  # initialize the accuracy\n",
    "\n",
    "    # loop on the batches in the train dataset\n",
    "    for batch_idx, (data, target) in enumerate(train_loader):\n",
    "        optimizer.zero_grad()  # important step to reset gradients to zero\n",
    "        new_size = I\n",
    "        adaptive_avg_pool = AdaptiveAvgPool2d((new_size, new_size))\n",
    "        data = adaptive_avg_pool(data).to(device)\n",
    "        # Run the network and compute the loss\n",
    "        output = network(data)  # we run the network on the data\n",
    "        loss = criterion(output,\n",
    "                         target)  # we compare output to the target and compute the loss, using the chosen loss function\n",
    "        train_loss += loss.item()  # we increment the total train loss\n",
    "\n",
    "        # !!!Here we do the learning!!!\n",
    "        loss.backward()  # backpropagation: the gradients are automatically computed by the autograd\n",
    "        optimizer.step()  # specific optimization rule for changing the weights (stochastic gradient descent, Adam etc)\n",
    "        # and change weighs\n",
    "\n",
    "        # Getting the prediction of the network and computing the accuracy\n",
    "        pred = output.argmax(dim=1, keepdim=True)  # the class chosen by the network is the highest output\n",
    "        acc = pred.eq(target.view_as(pred)).sum().item()  # the accuracy is the proportion of correct classes\n",
    "        train_accuracy += acc  # increment accuracy of whole test set\n",
    "\n",
    "    train_accuracy /= len(train_loader.dataset)  # compute mean accuracy\n",
    "    train_loss /= (batch_idx + 1)  # mean loss\n",
    "    return train_loss, train_accuracy\n",
    "\n",
    "for epoch in range(10):\n",
    "    train_loss, train_accuracy = train_net(conv_network, train_loader, criterion, optimizer)\n",
    "    loss_list.append(train_loss)\n",
    "    accuracy_list.append(train_accuracy*100)\n",
    "    \n",
    "    print(f'Epoch {epoch}: Loss = {train_loss:.6f}, accuracy = {train_accuracy*100:.4f} %')"
   ]
  },
  {
   "cell_type": "code",
   "execution_count": 6,
   "outputs": [
    {
     "name": "stdout",
     "output_type": "stream",
     "text": [
      "Number of parameters: 498\n"
     ]
    }
   ],
   "source": [
    "total_params = sum(p.numel() for p in conv_network.parameters())\n",
    "print(f\"Number of parameters: {total_params}\")"
   ],
   "metadata": {
    "collapsed": false,
    "ExecuteTime": {
     "end_time": "2024-05-24T14:13:11.560192Z",
     "start_time": "2024-05-24T14:13:11.552122Z"
    }
   }
  },
  {
   "cell_type": "code",
   "execution_count": 7,
   "metadata": {
    "ExecuteTime": {
     "end_time": "2024-05-24T14:13:14.816640Z",
     "start_time": "2024-05-24T14:13:13.349443Z"
    }
   },
   "outputs": [
    {
     "name": "stdout",
     "output_type": "stream",
     "text": [
      "Evaluation on test set: Loss = 0.669293, accuracy = 80.2700 %\n"
     ]
    }
   ],
   "source": [
    "def eval_net(network, test_loader, criterion):\n",
    "    network.eval()  # put in eval mode: we will just run, not modify the network\n",
    "    test_loss = 0  # initialize the loss\n",
    "    test_accuracy = 0  # initialize the accuracy\n",
    "\n",
    "    with torch.no_grad():  # careful, we do not care about gradients here\n",
    "        # loop on the batches in the test dataset\n",
    "        for batch_idx, (data, target) in enumerate(test_loader):\n",
    "            new_size = I\n",
    "            adaptive_avg_pool = AdaptiveAvgPool2d((new_size, new_size))\n",
    "            data = adaptive_avg_pool(data).to(device)\n",
    "            # Run the network and compute the loss\n",
    "            output = network(data)  # run the network on the test data\n",
    "            loss = criterion(output,\n",
    "                             target)  # compare the output to the target and compute the loss, using the chosen loss function\n",
    "            test_loss += loss.item()  # increment the total test loss\n",
    "\n",
    "            # Getting the prediction of the network and computing the accuracy\n",
    "            pred = output.argmax(dim=1, keepdim=True)  # the class chosen by the network is the highest output\n",
    "            acc = pred.eq(target.view_as(pred)).sum().item()  # the accuracy is the proportion of correct classes\n",
    "            test_accuracy += acc  # increment accuracy of whole test set\n",
    "\n",
    "    test_accuracy /= len(test_loader.dataset)  # compute mean accuracy\n",
    "    test_loss /= (batch_idx + 1)  # mean loss\n",
    "    return test_loss, test_accuracy\n",
    "\n",
    "test_loss, test_accuracy = eval_net(conv_network, test_loader, criterion)\n",
    "print(f'Evaluation on test set: Loss = {test_loss:.6f}, accuracy = {test_accuracy*100:.4f} %')"
   ]
  }
 ],
 "metadata": {
  "kernelspec": {
   "name": "env0",
   "language": "python",
   "display_name": "env0"
  },
  "language_info": {
   "codemirror_mode": {
    "name": "ipython",
    "version": 3
   },
   "file_extension": ".py",
   "mimetype": "text/x-python",
   "name": "python",
   "nbconvert_exporter": "python",
   "pygments_lexer": "ipython3",
   "version": "3.10.9"
  }
 },
 "nbformat": 4,
 "nbformat_minor": 4
}
