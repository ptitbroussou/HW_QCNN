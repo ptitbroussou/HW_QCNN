{
 "cells": [
  {
   "cell_type": "code",
   "execution_count": null,
   "id": "initial_id",
   "metadata": {
    "collapsed": true
   },
   "outputs": [],
   "source": [
    "from matplotlib import pyplot as plt\n",
    "from torch.nn import AdaptiveAvgPool2d\n",
    "import torch\n",
    "import load_dataset as load\n",
    "from load_dataset import reduce_MNIST_dataset"
   ]
  },
  {
   "cell_type": "code",
   "execution_count": null,
   "outputs": [],
   "source": [
    "I = 32 # dimension of image we use\n",
    "batch_size = 10 # batch number\n",
    "scala = 6000 # time we reduce dataset\n",
    "device = torch.device(\"mps\")\n",
    "\n",
    "train_loader, test_loader, dim_in, dim_out = load.load_MNIST(batch_size=batch_size)\n",
    "reduced_loader = reduce_MNIST_dataset(train_loader, scala)\n",
    "\n",
    "for batch_idx, (data, target) in enumerate(train_loader):\n",
    "    new_size = I\n",
    "    adaptive_avg_pool = AdaptiveAvgPool2d((new_size, new_size))\n",
    "    data = adaptive_avg_pool(data).to(device)\n",
    "    print(data.shape)\n",
    "    plt.imshow(data[0].squeeze().cpu())\n",
    "    break"
   ],
   "metadata": {
    "collapsed": false
   },
   "id": "131538fd61224a7d"
  }
 ],
 "metadata": {
  "kernelspec": {
   "display_name": "Python 3",
   "language": "python",
   "name": "python3"
  },
  "language_info": {
   "codemirror_mode": {
    "name": "ipython",
    "version": 2
   },
   "file_extension": ".py",
   "mimetype": "text/x-python",
   "name": "python",
   "nbconvert_exporter": "python",
   "pygments_lexer": "ipython2",
   "version": "2.7.6"
  }
 },
 "nbformat": 4,
 "nbformat_minor": 5
}
